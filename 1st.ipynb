{
  "cells": [
    {
      "cell_type": "markdown",
      "metadata": {
        "id": "view-in-github",
        "colab_type": "text"
      },
      "source": [
        "<a href=\"https://colab.research.google.com/github/nikhilraju4/sales-department/blob/main/1st.ipynb\" target=\"_parent\"><img src=\"https://colab.research.google.com/assets/colab-badge.svg\" alt=\"Open In Colab\"/></a>"
      ]
    },
    {
      "cell_type": "code",
      "source": [
        "\n",
        "import pandas as pd\n",
        "\n",
        "from sklearn.linear_model import LinearRegression\n",
        "import matplotlib.pyplot as plt\n",
        "\n",
        "data = pd.read_csv('/content/data ml.csv')#reading data\n",
        "data"
      ],
      "metadata": {
        "id": "lIYvMJKv6UvR",
        "outputId": "a13f1805-fa7e-434b-8c7f-aba31c668b00",
        "colab": {
          "base_uri": "https://localhost:8080/",
          "height": 423
        }
      },
      "execution_count": null,
      "outputs": [
        {
          "output_type": "execute_result",
          "data": {
            "text/plain": [
              "     Order_ID     Product_Category                           Product_Name  \\\n",
              "0        1001                 Tech                                 Laptop   \n",
              "1        1002  Kitchen Accessories                                Blender   \n",
              "2        1003                Books                       The Great Gatsby   \n",
              "3        1004           Stationery                               Notebook   \n",
              "4        1005              Fashion                                T-Shirt   \n",
              "..        ...                  ...                                    ...   \n",
              "291      1245              Fashion                                    Hat   \n",
              "292      1246                 Tech                    External Hard Drive   \n",
              "293      1247  Kitchen Accessories                                Blender   \n",
              "294      1248                Books  Harry Potter and the Sorcerer's Stone   \n",
              "295      1249           Stationery                                Pencils   \n",
              "\n",
              "     Unit_Price  Quantity  Total_Price           City Store_Type  \\\n",
              "0          1200       2.0         2400            NaN     Online   \n",
              "1            80       1.0           80    Los Angeles    Offline   \n",
              "2            15       3.0           45        Chicago     Online   \n",
              "3             5       NaN           50  San Francisco    Offline   \n",
              "4            20       5.0          100          Miami     Online   \n",
              "..          ...       ...          ...            ...        ...   \n",
              "291          25       4.0          100        Memphis     Online   \n",
              "292          80       2.0          160          Omaha    Offline   \n",
              "293          80       1.0           80        Anaheim     Online   \n",
              "294          10       5.0           50    Bakersfield    Offline   \n",
              "295           2       NaN           40        Anaheim     Online   \n",
              "\n",
              "    Payment_Method  Order_Date  \n",
              "0      Credit Card    3/1/2023  \n",
              "1             Cash    3/2/2023  \n",
              "2       Debit Card    3/3/2023  \n",
              "3             Cash    3/4/2023  \n",
              "4           PayPal    3/5/2023  \n",
              "..             ...         ...  \n",
              "291    Credit Card  10/28/2023  \n",
              "292     Debit Card  10/29/2023  \n",
              "293           Cash  10/30/2023  \n",
              "294         PayPal  10/31/2023  \n",
              "295    Credit Card   11/1/2023  \n",
              "\n",
              "[296 rows x 10 columns]"
            ],
            "text/html": [
              "\n",
              "  <div id=\"df-985cc2c4-2789-4e73-8121-98e18a6d87be\" class=\"colab-df-container\">\n",
              "    <div>\n",
              "<style scoped>\n",
              "    .dataframe tbody tr th:only-of-type {\n",
              "        vertical-align: middle;\n",
              "    }\n",
              "\n",
              "    .dataframe tbody tr th {\n",
              "        vertical-align: top;\n",
              "    }\n",
              "\n",
              "    .dataframe thead th {\n",
              "        text-align: right;\n",
              "    }\n",
              "</style>\n",
              "<table border=\"1\" class=\"dataframe\">\n",
              "  <thead>\n",
              "    <tr style=\"text-align: right;\">\n",
              "      <th></th>\n",
              "      <th>Order_ID</th>\n",
              "      <th>Product_Category</th>\n",
              "      <th>Product_Name</th>\n",
              "      <th>Unit_Price</th>\n",
              "      <th>Quantity</th>\n",
              "      <th>Total_Price</th>\n",
              "      <th>City</th>\n",
              "      <th>Store_Type</th>\n",
              "      <th>Payment_Method</th>\n",
              "      <th>Order_Date</th>\n",
              "    </tr>\n",
              "  </thead>\n",
              "  <tbody>\n",
              "    <tr>\n",
              "      <th>0</th>\n",
              "      <td>1001</td>\n",
              "      <td>Tech</td>\n",
              "      <td>Laptop</td>\n",
              "      <td>1200</td>\n",
              "      <td>2.0</td>\n",
              "      <td>2400</td>\n",
              "      <td>NaN</td>\n",
              "      <td>Online</td>\n",
              "      <td>Credit Card</td>\n",
              "      <td>3/1/2023</td>\n",
              "    </tr>\n",
              "    <tr>\n",
              "      <th>1</th>\n",
              "      <td>1002</td>\n",
              "      <td>Kitchen Accessories</td>\n",
              "      <td>Blender</td>\n",
              "      <td>80</td>\n",
              "      <td>1.0</td>\n",
              "      <td>80</td>\n",
              "      <td>Los Angeles</td>\n",
              "      <td>Offline</td>\n",
              "      <td>Cash</td>\n",
              "      <td>3/2/2023</td>\n",
              "    </tr>\n",
              "    <tr>\n",
              "      <th>2</th>\n",
              "      <td>1003</td>\n",
              "      <td>Books</td>\n",
              "      <td>The Great Gatsby</td>\n",
              "      <td>15</td>\n",
              "      <td>3.0</td>\n",
              "      <td>45</td>\n",
              "      <td>Chicago</td>\n",
              "      <td>Online</td>\n",
              "      <td>Debit Card</td>\n",
              "      <td>3/3/2023</td>\n",
              "    </tr>\n",
              "    <tr>\n",
              "      <th>3</th>\n",
              "      <td>1004</td>\n",
              "      <td>Stationery</td>\n",
              "      <td>Notebook</td>\n",
              "      <td>5</td>\n",
              "      <td>NaN</td>\n",
              "      <td>50</td>\n",
              "      <td>San Francisco</td>\n",
              "      <td>Offline</td>\n",
              "      <td>Cash</td>\n",
              "      <td>3/4/2023</td>\n",
              "    </tr>\n",
              "    <tr>\n",
              "      <th>4</th>\n",
              "      <td>1005</td>\n",
              "      <td>Fashion</td>\n",
              "      <td>T-Shirt</td>\n",
              "      <td>20</td>\n",
              "      <td>5.0</td>\n",
              "      <td>100</td>\n",
              "      <td>Miami</td>\n",
              "      <td>Online</td>\n",
              "      <td>PayPal</td>\n",
              "      <td>3/5/2023</td>\n",
              "    </tr>\n",
              "    <tr>\n",
              "      <th>...</th>\n",
              "      <td>...</td>\n",
              "      <td>...</td>\n",
              "      <td>...</td>\n",
              "      <td>...</td>\n",
              "      <td>...</td>\n",
              "      <td>...</td>\n",
              "      <td>...</td>\n",
              "      <td>...</td>\n",
              "      <td>...</td>\n",
              "      <td>...</td>\n",
              "    </tr>\n",
              "    <tr>\n",
              "      <th>291</th>\n",
              "      <td>1245</td>\n",
              "      <td>Fashion</td>\n",
              "      <td>Hat</td>\n",
              "      <td>25</td>\n",
              "      <td>4.0</td>\n",
              "      <td>100</td>\n",
              "      <td>Memphis</td>\n",
              "      <td>Online</td>\n",
              "      <td>Credit Card</td>\n",
              "      <td>10/28/2023</td>\n",
              "    </tr>\n",
              "    <tr>\n",
              "      <th>292</th>\n",
              "      <td>1246</td>\n",
              "      <td>Tech</td>\n",
              "      <td>External Hard Drive</td>\n",
              "      <td>80</td>\n",
              "      <td>2.0</td>\n",
              "      <td>160</td>\n",
              "      <td>Omaha</td>\n",
              "      <td>Offline</td>\n",
              "      <td>Debit Card</td>\n",
              "      <td>10/29/2023</td>\n",
              "    </tr>\n",
              "    <tr>\n",
              "      <th>293</th>\n",
              "      <td>1247</td>\n",
              "      <td>Kitchen Accessories</td>\n",
              "      <td>Blender</td>\n",
              "      <td>80</td>\n",
              "      <td>1.0</td>\n",
              "      <td>80</td>\n",
              "      <td>Anaheim</td>\n",
              "      <td>Online</td>\n",
              "      <td>Cash</td>\n",
              "      <td>10/30/2023</td>\n",
              "    </tr>\n",
              "    <tr>\n",
              "      <th>294</th>\n",
              "      <td>1248</td>\n",
              "      <td>Books</td>\n",
              "      <td>Harry Potter and the Sorcerer's Stone</td>\n",
              "      <td>10</td>\n",
              "      <td>5.0</td>\n",
              "      <td>50</td>\n",
              "      <td>Bakersfield</td>\n",
              "      <td>Offline</td>\n",
              "      <td>PayPal</td>\n",
              "      <td>10/31/2023</td>\n",
              "    </tr>\n",
              "    <tr>\n",
              "      <th>295</th>\n",
              "      <td>1249</td>\n",
              "      <td>Stationery</td>\n",
              "      <td>Pencils</td>\n",
              "      <td>2</td>\n",
              "      <td>NaN</td>\n",
              "      <td>40</td>\n",
              "      <td>Anaheim</td>\n",
              "      <td>Online</td>\n",
              "      <td>Credit Card</td>\n",
              "      <td>11/1/2023</td>\n",
              "    </tr>\n",
              "  </tbody>\n",
              "</table>\n",
              "<p>296 rows × 10 columns</p>\n",
              "</div>\n",
              "    <div class=\"colab-df-buttons\">\n",
              "\n",
              "  <div class=\"colab-df-container\">\n",
              "    <button class=\"colab-df-convert\" onclick=\"convertToInteractive('df-985cc2c4-2789-4e73-8121-98e18a6d87be')\"\n",
              "            title=\"Convert this dataframe to an interactive table.\"\n",
              "            style=\"display:none;\">\n",
              "\n",
              "  <svg xmlns=\"http://www.w3.org/2000/svg\" height=\"24px\" viewBox=\"0 -960 960 960\">\n",
              "    <path d=\"M120-120v-720h720v720H120Zm60-500h600v-160H180v160Zm220 220h160v-160H400v160Zm0 220h160v-160H400v160ZM180-400h160v-160H180v160Zm440 0h160v-160H620v160ZM180-180h160v-160H180v160Zm440 0h160v-160H620v160Z\"/>\n",
              "  </svg>\n",
              "    </button>\n",
              "\n",
              "  <style>\n",
              "    .colab-df-container {\n",
              "      display:flex;\n",
              "      gap: 12px;\n",
              "    }\n",
              "\n",
              "    .colab-df-convert {\n",
              "      background-color: #E8F0FE;\n",
              "      border: none;\n",
              "      border-radius: 50%;\n",
              "      cursor: pointer;\n",
              "      display: none;\n",
              "      fill: #1967D2;\n",
              "      height: 32px;\n",
              "      padding: 0 0 0 0;\n",
              "      width: 32px;\n",
              "    }\n",
              "\n",
              "    .colab-df-convert:hover {\n",
              "      background-color: #E2EBFA;\n",
              "      box-shadow: 0px 1px 2px rgba(60, 64, 67, 0.3), 0px 1px 3px 1px rgba(60, 64, 67, 0.15);\n",
              "      fill: #174EA6;\n",
              "    }\n",
              "\n",
              "    .colab-df-buttons div {\n",
              "      margin-bottom: 4px;\n",
              "    }\n",
              "\n",
              "    [theme=dark] .colab-df-convert {\n",
              "      background-color: #3B4455;\n",
              "      fill: #D2E3FC;\n",
              "    }\n",
              "\n",
              "    [theme=dark] .colab-df-convert:hover {\n",
              "      background-color: #434B5C;\n",
              "      box-shadow: 0px 1px 3px 1px rgba(0, 0, 0, 0.15);\n",
              "      filter: drop-shadow(0px 1px 2px rgba(0, 0, 0, 0.3));\n",
              "      fill: #FFFFFF;\n",
              "    }\n",
              "  </style>\n",
              "\n",
              "    <script>\n",
              "      const buttonEl =\n",
              "        document.querySelector('#df-985cc2c4-2789-4e73-8121-98e18a6d87be button.colab-df-convert');\n",
              "      buttonEl.style.display =\n",
              "        google.colab.kernel.accessAllowed ? 'block' : 'none';\n",
              "\n",
              "      async function convertToInteractive(key) {\n",
              "        const element = document.querySelector('#df-985cc2c4-2789-4e73-8121-98e18a6d87be');\n",
              "        const dataTable =\n",
              "          await google.colab.kernel.invokeFunction('convertToInteractive',\n",
              "                                                    [key], {});\n",
              "        if (!dataTable) return;\n",
              "\n",
              "        const docLinkHtml = 'Like what you see? Visit the ' +\n",
              "          '<a target=\"_blank\" href=https://colab.research.google.com/notebooks/data_table.ipynb>data table notebook</a>'\n",
              "          + ' to learn more about interactive tables.';\n",
              "        element.innerHTML = '';\n",
              "        dataTable['output_type'] = 'display_data';\n",
              "        await google.colab.output.renderOutput(dataTable, element);\n",
              "        const docLink = document.createElement('div');\n",
              "        docLink.innerHTML = docLinkHtml;\n",
              "        element.appendChild(docLink);\n",
              "      }\n",
              "    </script>\n",
              "  </div>\n",
              "\n",
              "\n",
              "<div id=\"df-06d08163-bf66-42e3-9c0e-4fc7ed43cd5e\">\n",
              "  <button class=\"colab-df-quickchart\" onclick=\"quickchart('df-06d08163-bf66-42e3-9c0e-4fc7ed43cd5e')\"\n",
              "            title=\"Suggest charts\"\n",
              "            style=\"display:none;\">\n",
              "\n",
              "<svg xmlns=\"http://www.w3.org/2000/svg\" height=\"24px\"viewBox=\"0 0 24 24\"\n",
              "     width=\"24px\">\n",
              "    <g>\n",
              "        <path d=\"M19 3H5c-1.1 0-2 .9-2 2v14c0 1.1.9 2 2 2h14c1.1 0 2-.9 2-2V5c0-1.1-.9-2-2-2zM9 17H7v-7h2v7zm4 0h-2V7h2v10zm4 0h-2v-4h2v4z\"/>\n",
              "    </g>\n",
              "</svg>\n",
              "  </button>\n",
              "\n",
              "<style>\n",
              "  .colab-df-quickchart {\n",
              "      --bg-color: #E8F0FE;\n",
              "      --fill-color: #1967D2;\n",
              "      --hover-bg-color: #E2EBFA;\n",
              "      --hover-fill-color: #174EA6;\n",
              "      --disabled-fill-color: #AAA;\n",
              "      --disabled-bg-color: #DDD;\n",
              "  }\n",
              "\n",
              "  [theme=dark] .colab-df-quickchart {\n",
              "      --bg-color: #3B4455;\n",
              "      --fill-color: #D2E3FC;\n",
              "      --hover-bg-color: #434B5C;\n",
              "      --hover-fill-color: #FFFFFF;\n",
              "      --disabled-bg-color: #3B4455;\n",
              "      --disabled-fill-color: #666;\n",
              "  }\n",
              "\n",
              "  .colab-df-quickchart {\n",
              "    background-color: var(--bg-color);\n",
              "    border: none;\n",
              "    border-radius: 50%;\n",
              "    cursor: pointer;\n",
              "    display: none;\n",
              "    fill: var(--fill-color);\n",
              "    height: 32px;\n",
              "    padding: 0;\n",
              "    width: 32px;\n",
              "  }\n",
              "\n",
              "  .colab-df-quickchart:hover {\n",
              "    background-color: var(--hover-bg-color);\n",
              "    box-shadow: 0 1px 2px rgba(60, 64, 67, 0.3), 0 1px 3px 1px rgba(60, 64, 67, 0.15);\n",
              "    fill: var(--button-hover-fill-color);\n",
              "  }\n",
              "\n",
              "  .colab-df-quickchart-complete:disabled,\n",
              "  .colab-df-quickchart-complete:disabled:hover {\n",
              "    background-color: var(--disabled-bg-color);\n",
              "    fill: var(--disabled-fill-color);\n",
              "    box-shadow: none;\n",
              "  }\n",
              "\n",
              "  .colab-df-spinner {\n",
              "    border: 2px solid var(--fill-color);\n",
              "    border-color: transparent;\n",
              "    border-bottom-color: var(--fill-color);\n",
              "    animation:\n",
              "      spin 1s steps(1) infinite;\n",
              "  }\n",
              "\n",
              "  @keyframes spin {\n",
              "    0% {\n",
              "      border-color: transparent;\n",
              "      border-bottom-color: var(--fill-color);\n",
              "      border-left-color: var(--fill-color);\n",
              "    }\n",
              "    20% {\n",
              "      border-color: transparent;\n",
              "      border-left-color: var(--fill-color);\n",
              "      border-top-color: var(--fill-color);\n",
              "    }\n",
              "    30% {\n",
              "      border-color: transparent;\n",
              "      border-left-color: var(--fill-color);\n",
              "      border-top-color: var(--fill-color);\n",
              "      border-right-color: var(--fill-color);\n",
              "    }\n",
              "    40% {\n",
              "      border-color: transparent;\n",
              "      border-right-color: var(--fill-color);\n",
              "      border-top-color: var(--fill-color);\n",
              "    }\n",
              "    60% {\n",
              "      border-color: transparent;\n",
              "      border-right-color: var(--fill-color);\n",
              "    }\n",
              "    80% {\n",
              "      border-color: transparent;\n",
              "      border-right-color: var(--fill-color);\n",
              "      border-bottom-color: var(--fill-color);\n",
              "    }\n",
              "    90% {\n",
              "      border-color: transparent;\n",
              "      border-bottom-color: var(--fill-color);\n",
              "    }\n",
              "  }\n",
              "</style>\n",
              "\n",
              "  <script>\n",
              "    async function quickchart(key) {\n",
              "      const quickchartButtonEl =\n",
              "        document.querySelector('#' + key + ' button');\n",
              "      quickchartButtonEl.disabled = true;  // To prevent multiple clicks.\n",
              "      quickchartButtonEl.classList.add('colab-df-spinner');\n",
              "      try {\n",
              "        const charts = await google.colab.kernel.invokeFunction(\n",
              "            'suggestCharts', [key], {});\n",
              "      } catch (error) {\n",
              "        console.error('Error during call to suggestCharts:', error);\n",
              "      }\n",
              "      quickchartButtonEl.classList.remove('colab-df-spinner');\n",
              "      quickchartButtonEl.classList.add('colab-df-quickchart-complete');\n",
              "    }\n",
              "    (() => {\n",
              "      let quickchartButtonEl =\n",
              "        document.querySelector('#df-06d08163-bf66-42e3-9c0e-4fc7ed43cd5e button');\n",
              "      quickchartButtonEl.style.display =\n",
              "        google.colab.kernel.accessAllowed ? 'block' : 'none';\n",
              "    })();\n",
              "  </script>\n",
              "</div>\n",
              "\n",
              "  <div id=\"id_5af434fd-ecbb-41a7-bb11-6277df849558\">\n",
              "    <style>\n",
              "      .colab-df-generate {\n",
              "        background-color: #E8F0FE;\n",
              "        border: none;\n",
              "        border-radius: 50%;\n",
              "        cursor: pointer;\n",
              "        display: none;\n",
              "        fill: #1967D2;\n",
              "        height: 32px;\n",
              "        padding: 0 0 0 0;\n",
              "        width: 32px;\n",
              "      }\n",
              "\n",
              "      .colab-df-generate:hover {\n",
              "        background-color: #E2EBFA;\n",
              "        box-shadow: 0px 1px 2px rgba(60, 64, 67, 0.3), 0px 1px 3px 1px rgba(60, 64, 67, 0.15);\n",
              "        fill: #174EA6;\n",
              "      }\n",
              "\n",
              "      [theme=dark] .colab-df-generate {\n",
              "        background-color: #3B4455;\n",
              "        fill: #D2E3FC;\n",
              "      }\n",
              "\n",
              "      [theme=dark] .colab-df-generate:hover {\n",
              "        background-color: #434B5C;\n",
              "        box-shadow: 0px 1px 3px 1px rgba(0, 0, 0, 0.15);\n",
              "        filter: drop-shadow(0px 1px 2px rgba(0, 0, 0, 0.3));\n",
              "        fill: #FFFFFF;\n",
              "      }\n",
              "    </style>\n",
              "    <button class=\"colab-df-generate\" onclick=\"generateWithVariable('data')\"\n",
              "            title=\"Generate code using this dataframe.\"\n",
              "            style=\"display:none;\">\n",
              "\n",
              "  <svg xmlns=\"http://www.w3.org/2000/svg\" height=\"24px\"viewBox=\"0 0 24 24\"\n",
              "       width=\"24px\">\n",
              "    <path d=\"M7,19H8.4L18.45,9,17,7.55,7,17.6ZM5,21V16.75L18.45,3.32a2,2,0,0,1,2.83,0l1.4,1.43a1.91,1.91,0,0,1,.58,1.4,1.91,1.91,0,0,1-.58,1.4L9.25,21ZM18.45,9,17,7.55Zm-12,3A5.31,5.31,0,0,0,4.9,8.1,5.31,5.31,0,0,0,1,6.5,5.31,5.31,0,0,0,4.9,4.9,5.31,5.31,0,0,0,6.5,1,5.31,5.31,0,0,0,8.1,4.9,5.31,5.31,0,0,0,12,6.5,5.46,5.46,0,0,0,6.5,12Z\"/>\n",
              "  </svg>\n",
              "    </button>\n",
              "    <script>\n",
              "      (() => {\n",
              "      const buttonEl =\n",
              "        document.querySelector('#id_5af434fd-ecbb-41a7-bb11-6277df849558 button.colab-df-generate');\n",
              "      buttonEl.style.display =\n",
              "        google.colab.kernel.accessAllowed ? 'block' : 'none';\n",
              "\n",
              "      buttonEl.onclick = () => {\n",
              "        google.colab.notebook.generateWithVariable('data');\n",
              "      }\n",
              "      })();\n",
              "    </script>\n",
              "  </div>\n",
              "\n",
              "    </div>\n",
              "  </div>\n"
            ],
            "application/vnd.google.colaboratory.intrinsic+json": {
              "type": "dataframe",
              "variable_name": "data",
              "summary": "{\n  \"name\": \"data\",\n  \"rows\": 296,\n  \"fields\": [\n    {\n      \"column\": \"Order_ID\",\n      \"properties\": {\n        \"dtype\": \"number\",\n        \"std\": 75,\n        \"min\": 1001,\n        \"max\": 1249,\n        \"num_unique_values\": 249,\n        \"samples\": [\n          1138,\n          1007,\n          1098\n        ],\n        \"semantic_type\": \"\",\n        \"description\": \"\"\n      }\n    },\n    {\n      \"column\": \"Product_Category\",\n      \"properties\": {\n        \"dtype\": \"category\",\n        \"num_unique_values\": 5,\n        \"samples\": [\n          \"Kitchen Accessories\",\n          \"Fashion\",\n          \"Books\"\n        ],\n        \"semantic_type\": \"\",\n        \"description\": \"\"\n      }\n    },\n    {\n      \"column\": \"Product_Name\",\n      \"properties\": {\n        \"dtype\": \"category\",\n        \"num_unique_values\": 71,\n        \"samples\": [\n          \"1984\",\n          \"Laptop\",\n          \"Wireless Earbuds\"\n        ],\n        \"semantic_type\": \"\",\n        \"description\": \"\"\n      }\n    },\n    {\n      \"column\": \"Unit_Price\",\n      \"properties\": {\n        \"dtype\": \"number\",\n        \"std\": 146,\n        \"min\": 1,\n        \"max\": 1200,\n        \"num_unique_values\": 27,\n        \"samples\": [\n          2,\n          70,\n          50\n        ],\n        \"semantic_type\": \"\",\n        \"description\": \"\"\n      }\n    },\n    {\n      \"column\": \"Quantity\",\n      \"properties\": {\n        \"dtype\": \"number\",\n        \"std\": 4.434404269489157,\n        \"min\": 1.0,\n        \"max\": 20.0,\n        \"num_unique_values\": 10,\n        \"samples\": [\n          12.0,\n          1.0,\n          20.0\n        ],\n        \"semantic_type\": \"\",\n        \"description\": \"\"\n      }\n    },\n    {\n      \"column\": \"Total_Price\",\n      \"properties\": {\n        \"dtype\": \"number\",\n        \"std\": 197,\n        \"min\": 10,\n        \"max\": 2400,\n        \"num_unique_values\": 29,\n        \"samples\": [\n          18,\n          36,\n          160\n        ],\n        \"semantic_type\": \"\",\n        \"description\": \"\"\n      }\n    },\n    {\n      \"column\": \"City\",\n      \"properties\": {\n        \"dtype\": \"category\",\n        \"num_unique_values\": 53,\n        \"samples\": [\n          \"San Antonio\",\n          \"Virginia Beach\",\n          \"Albuquerque\"\n        ],\n        \"semantic_type\": \"\",\n        \"description\": \"\"\n      }\n    },\n    {\n      \"column\": \"Store_Type\",\n      \"properties\": {\n        \"dtype\": \"category\",\n        \"num_unique_values\": 2,\n        \"samples\": [\n          \"Offline\",\n          \"Online\"\n        ],\n        \"semantic_type\": \"\",\n        \"description\": \"\"\n      }\n    },\n    {\n      \"column\": \"Payment_Method\",\n      \"properties\": {\n        \"dtype\": \"category\",\n        \"num_unique_values\": 4,\n        \"samples\": [\n          \"Cash\",\n          \"PayPal\"\n        ],\n        \"semantic_type\": \"\",\n        \"description\": \"\"\n      }\n    },\n    {\n      \"column\": \"Order_Date\",\n      \"properties\": {\n        \"dtype\": \"object\",\n        \"num_unique_values\": 245,\n        \"samples\": [\n          \"3/25/2023\",\n          \"3/7/2023\"\n        ],\n        \"semantic_type\": \"\",\n        \"description\": \"\"\n      }\n    }\n  ]\n}"
            }
          },
          "metadata": {},
          "execution_count": 4
        }
      ]
    },
    {
      "cell_type": "code",
      "source": [
        "print(data.head(10))"
      ],
      "metadata": {
        "id": "6vnQaApm7hT4",
        "outputId": "8604a43e-db7d-4956-8780-404e4dae04a4",
        "colab": {
          "base_uri": "https://localhost:8080/"
        }
      },
      "execution_count": null,
      "outputs": [
        {
          "output_type": "stream",
          "name": "stdout",
          "text": [
            "   Order_ID     Product_Category           Product_Name  Unit_Price  Quantity  \\\n",
            "0      1001                 Tech                 Laptop        1200       2.0   \n",
            "1      1002  Kitchen Accessories                Blender          80       1.0   \n",
            "2      1003                Books       The Great Gatsby          15       3.0   \n",
            "3      1004           Stationery               Notebook           5       NaN   \n",
            "4      1005              Fashion                T-Shirt          20       5.0   \n",
            "5      1006                 Tech             Smartphone         800       1.0   \n",
            "6      1007  Kitchen Accessories           Coffee Maker         100       2.0   \n",
            "7      1008                Books  To Kill a Mockingbird          12       4.0   \n",
            "8      1009           Stationery                   Pens           2      20.0   \n",
            "9      1010              Fashion                  Jeans          50       3.0   \n",
            "\n",
            "   Total_Price           City Store_Type Payment_Method Order_Date  \n",
            "0         2400            NaN     Online    Credit Card   3/1/2023  \n",
            "1           80    Los Angeles    Offline           Cash   3/2/2023  \n",
            "2           45        Chicago     Online     Debit Card   3/3/2023  \n",
            "3           50  San Francisco    Offline           Cash   3/4/2023  \n",
            "4          100          Miami     Online         PayPal   3/5/2023  \n",
            "5          800         Dallas    Offline    Credit Card   3/6/2023  \n",
            "6          200         Boston     Online     Debit Card   3/7/2023  \n",
            "7           48        Seattle    Offline           Cash   3/8/2023  \n",
            "8           40        Atlanta     Online         PayPal   3/9/2023  \n",
            "9          150         Denver    Offline    Credit Card  3/10/2023  \n"
          ]
        }
      ]
    },
    {
      "cell_type": "code",
      "source": [
        "print(data.tail(10))"
      ],
      "metadata": {
        "id": "z9aFW5kW7uax",
        "outputId": "c32509f5-86ad-4a3e-8bb3-0a2f6c61b4e5",
        "colab": {
          "base_uri": "https://localhost:8080/"
        }
      },
      "execution_count": null,
      "outputs": [
        {
          "output_type": "stream",
          "name": "stdout",
          "text": [
            "     Order_ID     Product_Category                           Product_Name  \\\n",
            "286      1240              Fashion                                  Shoes   \n",
            "287      1241                 Tech                             Smartwatch   \n",
            "288      1242  Kitchen Accessories                              Microwave   \n",
            "289      1243                Books                                   1984   \n",
            "290      1244           Stationery                                Markers   \n",
            "291      1245              Fashion                                    Hat   \n",
            "292      1246                 Tech                    External Hard Drive   \n",
            "293      1247  Kitchen Accessories                                Blender   \n",
            "294      1248                Books  Harry Potter and the Sorcerer's Stone   \n",
            "295      1249           Stationery                                Pencils   \n",
            "\n",
            "     Unit_Price  Quantity  Total_Price         City Store_Type Payment_Method  \\\n",
            "286         100       2.0          200      Memphis    Offline         PayPal   \n",
            "287         150       1.0          150        Omaha     Online    Credit Card   \n",
            "288         200       1.0          200      Anaheim    Offline     Debit Card   \n",
            "289          18       3.0           54  Bakersfield     Online           Cash   \n",
            "290           3      12.0           36      Anaheim    Offline         PayPal   \n",
            "291          25       4.0          100      Memphis     Online    Credit Card   \n",
            "292          80       2.0          160        Omaha    Offline     Debit Card   \n",
            "293          80       1.0           80      Anaheim     Online           Cash   \n",
            "294          10       5.0           50  Bakersfield    Offline         PayPal   \n",
            "295           2       NaN           40      Anaheim     Online    Credit Card   \n",
            "\n",
            "     Order_Date  \n",
            "286  10/23/2023  \n",
            "287  10/24/2023  \n",
            "288  10/25/2023  \n",
            "289  10/26/2023  \n",
            "290  10/27/2023  \n",
            "291  10/28/2023  \n",
            "292  10/29/2023  \n",
            "293  10/30/2023  \n",
            "294  10/31/2023  \n",
            "295   11/1/2023  \n"
          ]
        }
      ]
    },
    {
      "cell_type": "code",
      "source": [
        "print(data.describe())"
      ],
      "metadata": {
        "id": "D3-c_tcW7zrP",
        "outputId": "2ecdaea3-75b1-49d1-edbe-b27f3a0cd031",
        "colab": {
          "base_uri": "https://localhost:8080/"
        }
      },
      "execution_count": null,
      "outputs": [
        {
          "output_type": "stream",
          "name": "stdout",
          "text": [
            "          Order_ID   Unit_Price    Quantity  Total_Price\n",
            "count   296.000000   296.000000  291.000000   296.000000\n",
            "mean   1140.719595    78.709459    4.312715   131.300676\n",
            "std      75.524196   146.752241    4.434404   197.377726\n",
            "min    1001.000000     1.000000    1.000000    10.000000\n",
            "25%    1074.750000    10.000000    2.000000    49.500000\n",
            "50%    1148.500000    30.000000    3.000000    80.000000\n",
            "75%    1211.250000    80.000000    5.000000   160.000000\n",
            "max    1249.000000  1200.000000   20.000000  2400.000000\n"
          ]
        }
      ]
    },
    {
      "cell_type": "code",
      "source": [
        "print(data.info())"
      ],
      "metadata": {
        "id": "pXgCbj998NGw",
        "outputId": "8d5bf458-47d1-4076-ac77-772618c2e4ae",
        "colab": {
          "base_uri": "https://localhost:8080/"
        }
      },
      "execution_count": null,
      "outputs": [
        {
          "output_type": "stream",
          "name": "stdout",
          "text": [
            "<class 'pandas.core.frame.DataFrame'>\n",
            "RangeIndex: 296 entries, 0 to 295\n",
            "Data columns (total 10 columns):\n",
            " #   Column            Non-Null Count  Dtype  \n",
            "---  ------            --------------  -----  \n",
            " 0   Order_ID          296 non-null    int64  \n",
            " 1   Product_Category  296 non-null    object \n",
            " 2   Product_Name      296 non-null    object \n",
            " 3   Unit_Price        296 non-null    int64  \n",
            " 4   Quantity          291 non-null    float64\n",
            " 5   Total_Price       296 non-null    int64  \n",
            " 6   City              289 non-null    object \n",
            " 7   Store_Type        296 non-null    object \n",
            " 8   Payment_Method    296 non-null    object \n",
            " 9   Order_Date        296 non-null    object \n",
            "dtypes: float64(1), int64(3), object(6)\n",
            "memory usage: 23.2+ KB\n",
            "None\n"
          ]
        }
      ]
    },
    {
      "cell_type": "code",
      "source": [
        "print(data.isnull().sum())"
      ],
      "metadata": {
        "id": "bl3b8J4l8dOG",
        "outputId": "dd90b1d8-6070-46a2-e734-2b78e4691660",
        "colab": {
          "base_uri": "https://localhost:8080/"
        }
      },
      "execution_count": null,
      "outputs": [
        {
          "output_type": "stream",
          "name": "stdout",
          "text": [
            "Order_ID            0\n",
            "Product_Category    0\n",
            "Product_Name        0\n",
            "Unit_Price          0\n",
            "Quantity            5\n",
            "Total_Price         0\n",
            "City                7\n",
            "Store_Type          0\n",
            "Payment_Method      0\n",
            "Order_Date          0\n",
            "dtype: int64\n"
          ]
        }
      ]
    },
    {
      "cell_type": "code",
      "source": [
        "q_median = data['Quantity'].median()\n",
        "print(q_median)"
      ],
      "metadata": {
        "id": "oX1HG4XL9v8t",
        "outputId": "7ab842d8-b98c-44d2-892f-5951ac400190",
        "colab": {
          "base_uri": "https://localhost:8080/"
        }
      },
      "execution_count": null,
      "outputs": [
        {
          "output_type": "stream",
          "name": "stdout",
          "text": [
            "3.0\n"
          ]
        }
      ]
    },
    {
      "cell_type": "code",
      "source": [
        "data['Quantity'].fillna(q_median, inplace =  True)"
      ],
      "metadata": {
        "id": "AxmMQu788q0l",
        "colab": {
          "base_uri": "https://localhost:8080/",
          "height": 146
        },
        "outputId": "fd657ca3-377e-48a0-c37d-0dfca43feb55"
      },
      "execution_count": null,
      "outputs": [
        {
          "output_type": "error",
          "ename": "NameError",
          "evalue": "name 'data' is not defined",
          "traceback": [
            "\u001b[0;31m---------------------------------------------------------------------------\u001b[0m",
            "\u001b[0;31mNameError\u001b[0m                                 Traceback (most recent call last)",
            "\u001b[0;32m<ipython-input-1-ce222077b571>\u001b[0m in \u001b[0;36m<cell line: 1>\u001b[0;34m()\u001b[0m\n\u001b[0;32m----> 1\u001b[0;31m \u001b[0mdata\u001b[0m\u001b[0;34m[\u001b[0m\u001b[0;34m'Quantity'\u001b[0m\u001b[0;34m]\u001b[0m\u001b[0;34m.\u001b[0m\u001b[0mfillna\u001b[0m\u001b[0;34m(\u001b[0m\u001b[0mq_median\u001b[0m\u001b[0;34m,\u001b[0m \u001b[0minplace\u001b[0m \u001b[0;34m=\u001b[0m  \u001b[0;32mTrue\u001b[0m\u001b[0;34m)\u001b[0m\u001b[0;34m\u001b[0m\u001b[0;34m\u001b[0m\u001b[0m\n\u001b[0m",
            "\u001b[0;31mNameError\u001b[0m: name 'data' is not defined"
          ]
        }
      ]
    },
    {
      "cell_type": "code",
      "source": [
        "print(data.isnull().sum())"
      ],
      "metadata": {
        "id": "gsrmBC7C_LKY",
        "outputId": "eea866f9-b325-49c0-c882-e08e9ab63655",
        "colab": {
          "base_uri": "https://localhost:8080/"
        }
      },
      "execution_count": null,
      "outputs": [
        {
          "output_type": "stream",
          "name": "stdout",
          "text": [
            "Order_ID            0\n",
            "Product_Category    0\n",
            "Product_Name        0\n",
            "Unit_Price          0\n",
            "Quantity            0\n",
            "Total_Price         0\n",
            "City                7\n",
            "Store_Type          0\n",
            "Payment_Method      0\n",
            "Order_Date          0\n",
            "dtype: int64\n"
          ]
        }
      ]
    },
    {
      "cell_type": "code",
      "source": [
        "most_frequent_city = data['City'].mode()[0]\n"
      ],
      "metadata": {
        "id": "lFYSb9xuAfsA"
      },
      "execution_count": null,
      "outputs": []
    },
    {
      "cell_type": "code",
      "source": [
        "data['City'].fillna(most_frequent_city,inplace = True)"
      ],
      "metadata": {
        "id": "bwHFwVmtCE9s"
      },
      "execution_count": null,
      "outputs": []
    },
    {
      "cell_type": "code",
      "source": [
        "print(data.isnull().sum())"
      ],
      "metadata": {
        "id": "YkBf8eNBCaYS",
        "outputId": "c717c05b-b8b5-4c9c-b0b4-55312b020ef4",
        "colab": {
          "base_uri": "https://localhost:8080/"
        }
      },
      "execution_count": null,
      "outputs": [
        {
          "output_type": "stream",
          "name": "stdout",
          "text": [
            "Order_ID            0\n",
            "Product_Category    0\n",
            "Product_Name        0\n",
            "Unit_Price          0\n",
            "Quantity            0\n",
            "Total_Price         0\n",
            "City                0\n",
            "Store_Type          0\n",
            "Payment_Method      0\n",
            "Order_Date          0\n",
            "dtype: int64\n"
          ]
        }
      ]
    },
    {
      "cell_type": "code",
      "source": [
        "duplicates_removed = data.drop_duplicates()\n",
        "print(duplicates_removed)\n"
      ],
      "metadata": {
        "id": "Oy95ihPaEWfI",
        "outputId": "2d2289ca-53f5-4b78-888c-ff7db617c1d6",
        "colab": {
          "base_uri": "https://localhost:8080/"
        }
      },
      "execution_count": null,
      "outputs": [
        {
          "output_type": "stream",
          "name": "stdout",
          "text": [
            "     Order_ID     Product_Category                           Product_Name  \\\n",
            "0        1001                 Tech                                 Laptop   \n",
            "1        1002  Kitchen Accessories                                Blender   \n",
            "2        1003                Books                       The Great Gatsby   \n",
            "3        1004           Stationery                               Notebook   \n",
            "4        1005              Fashion                                T-Shirt   \n",
            "..        ...                  ...                                    ...   \n",
            "291      1245              Fashion                                    Hat   \n",
            "292      1246                 Tech                    External Hard Drive   \n",
            "293      1247  Kitchen Accessories                                Blender   \n",
            "294      1248                Books  Harry Potter and the Sorcerer's Stone   \n",
            "295      1249           Stationery                                Pencils   \n",
            "\n",
            "     Unit_Price  Quantity  Total_Price           City Store_Type  \\\n",
            "0          1200       2.0         2400        Anaheim     Online   \n",
            "1            80       1.0           80    Los Angeles    Offline   \n",
            "2            15       3.0           45        Chicago     Online   \n",
            "3             5       3.0           50  San Francisco    Offline   \n",
            "4            20       5.0          100          Miami     Online   \n",
            "..          ...       ...          ...            ...        ...   \n",
            "291          25       4.0          100        Memphis     Online   \n",
            "292          80       2.0          160          Omaha    Offline   \n",
            "293          80       1.0           80        Anaheim     Online   \n",
            "294          10       5.0           50    Bakersfield    Offline   \n",
            "295           2       3.0           40        Anaheim     Online   \n",
            "\n",
            "    Payment_Method  Order_Date  \n",
            "0      Credit Card    3/1/2023  \n",
            "1             Cash    3/2/2023  \n",
            "2       Debit Card    3/3/2023  \n",
            "3             Cash    3/4/2023  \n",
            "4           PayPal    3/5/2023  \n",
            "..             ...         ...  \n",
            "291    Credit Card  10/28/2023  \n",
            "292     Debit Card  10/29/2023  \n",
            "293           Cash  10/30/2023  \n",
            "294         PayPal  10/31/2023  \n",
            "295    Credit Card   11/1/2023  \n",
            "\n",
            "[280 rows x 10 columns]\n"
          ]
        }
      ]
    },
    {
      "cell_type": "code",
      "source": [
        "data.drop_duplicates(inplace = True)\n",
        "print(data)"
      ],
      "metadata": {
        "id": "QNLq37iuCtZW",
        "outputId": "68a3e389-d1db-4cb6-93dc-2e2d41f7aca0",
        "colab": {
          "base_uri": "https://localhost:8080/"
        }
      },
      "execution_count": null,
      "outputs": [
        {
          "output_type": "stream",
          "name": "stdout",
          "text": [
            "     Order_ID     Product_Category                           Product_Name  \\\n",
            "0        1001                 Tech                                 Laptop   \n",
            "1        1002  Kitchen Accessories                                Blender   \n",
            "2        1003                Books                       The Great Gatsby   \n",
            "3        1004           Stationery                               Notebook   \n",
            "4        1005              Fashion                                T-Shirt   \n",
            "..        ...                  ...                                    ...   \n",
            "291      1245              Fashion                                    Hat   \n",
            "292      1246                 Tech                    External Hard Drive   \n",
            "293      1247  Kitchen Accessories                                Blender   \n",
            "294      1248                Books  Harry Potter and the Sorcerer's Stone   \n",
            "295      1249           Stationery                                Pencils   \n",
            "\n",
            "     Unit_Price  Quantity  Total_Price           City Store_Type  \\\n",
            "0          1200       2.0         2400        Anaheim     Online   \n",
            "1            80       1.0           80    Los Angeles    Offline   \n",
            "2            15       3.0           45        Chicago     Online   \n",
            "3             5       3.0           50  San Francisco    Offline   \n",
            "4            20       5.0          100          Miami     Online   \n",
            "..          ...       ...          ...            ...        ...   \n",
            "291          25       4.0          100        Memphis     Online   \n",
            "292          80       2.0          160          Omaha    Offline   \n",
            "293          80       1.0           80        Anaheim     Online   \n",
            "294          10       5.0           50    Bakersfield    Offline   \n",
            "295           2       3.0           40        Anaheim     Online   \n",
            "\n",
            "    Payment_Method  Order_Date  \n",
            "0      Credit Card    3/1/2023  \n",
            "1             Cash    3/2/2023  \n",
            "2       Debit Card    3/3/2023  \n",
            "3             Cash    3/4/2023  \n",
            "4           PayPal    3/5/2023  \n",
            "..             ...         ...  \n",
            "291    Credit Card  10/28/2023  \n",
            "292     Debit Card  10/29/2023  \n",
            "293           Cash  10/30/2023  \n",
            "294         PayPal  10/31/2023  \n",
            "295    Credit Card   11/1/2023  \n",
            "\n",
            "[280 rows x 10 columns]\n"
          ]
        }
      ]
    },
    {
      "cell_type": "code",
      "source": [
        "data.groupby('Product_Name').sum()"
      ],
      "metadata": {
        "id": "Mv4184odFPaE",
        "outputId": "3bde2a6e-2d54-4059-909f-749a1dce30cb",
        "colab": {
          "base_uri": "https://localhost:8080/",
          "height": 146
        }
      },
      "execution_count": null,
      "outputs": [
        {
          "output_type": "error",
          "ename": "NameError",
          "evalue": "name 'data' is not defined",
          "traceback": [
            "\u001b[0;31m---------------------------------------------------------------------------\u001b[0m",
            "\u001b[0;31mNameError\u001b[0m                                 Traceback (most recent call last)",
            "\u001b[0;32m<ipython-input-2-6dfebbe4f493>\u001b[0m in \u001b[0;36m<cell line: 1>\u001b[0;34m()\u001b[0m\n\u001b[0;32m----> 1\u001b[0;31m \u001b[0mdata\u001b[0m\u001b[0;34m.\u001b[0m\u001b[0mgroupby\u001b[0m\u001b[0;34m(\u001b[0m\u001b[0;34m'Product_Name'\u001b[0m\u001b[0;34m)\u001b[0m\u001b[0;34m.\u001b[0m\u001b[0msum\u001b[0m\u001b[0;34m(\u001b[0m\u001b[0;34m)\u001b[0m\u001b[0;34m\u001b[0m\u001b[0;34m\u001b[0m\u001b[0m\n\u001b[0m",
            "\u001b[0;31mNameError\u001b[0m: name 'data' is not defined"
          ]
        }
      ]
    },
    {
      "cell_type": "code",
      "source": [
        "data2 = data.iloc[:,[2,4]]"
      ],
      "metadata": {
        "id": "hKm53aSCFzyt"
      },
      "execution_count": null,
      "outputs": []
    },
    {
      "cell_type": "code",
      "source": [
        "a = data2.groupby('Product_Name').sum()\n",
        "print(a)"
      ],
      "metadata": {
        "id": "rfk8HF98Gez4",
        "outputId": "fbec5c50-3881-4329-9af8-b8e74c42e15f",
        "colab": {
          "base_uri": "https://localhost:8080/"
        }
      },
      "execution_count": null,
      "outputs": [
        {
          "output_type": "stream",
          "name": "stdout",
          "text": [
            "                       Quantity\n",
            "Product_Name                   \n",
            "1984                       24.0\n",
            "Backpack                    2.0\n",
            "Belt                       10.0\n",
            "Blender                    14.0\n",
            "Bluetooth Earphones         2.0\n",
            "...                         ...\n",
            "Watch                      15.0\n",
            "Wireless Charging Pad       3.0\n",
            "Wireless Earbuds            2.0\n",
            "Wireless Keyboard           1.0\n",
            "Wireless Mouse              4.0\n",
            "\n",
            "[71 rows x 1 columns]\n"
          ]
        }
      ]
    },
    {
      "cell_type": "code",
      "source": [
        "a.sort_values('Quantity')"
      ],
      "metadata": {
        "id": "9teAPJIzHhBg",
        "outputId": "ec2b741b-d908-4ce1-ae90-c616ff4f6956",
        "colab": {
          "base_uri": "https://localhost:8080/",
          "height": 455
        }
      },
      "execution_count": null,
      "outputs": [
        {
          "output_type": "execute_result",
          "data": {
            "text/plain": [
              "                  Quantity\n",
              "Product_Name              \n",
              "Smart Thermostat       1.0\n",
              "Bread Maker            1.0\n",
              "Stand Mixer            1.0\n",
              "Coffee Grinder         1.0\n",
              "Toaster Oven           1.0\n",
              "...                    ...\n",
              "Sticky Notes          72.0\n",
              "Notebook              73.0\n",
              "Markers               96.0\n",
              "Pencils              123.0\n",
              "Pens                 160.0\n",
              "\n",
              "[71 rows x 1 columns]"
            ],
            "text/html": [
              "\n",
              "  <div id=\"df-76b6954b-5139-4f61-898c-ab39ea2a3e87\" class=\"colab-df-container\">\n",
              "    <div>\n",
              "<style scoped>\n",
              "    .dataframe tbody tr th:only-of-type {\n",
              "        vertical-align: middle;\n",
              "    }\n",
              "\n",
              "    .dataframe tbody tr th {\n",
              "        vertical-align: top;\n",
              "    }\n",
              "\n",
              "    .dataframe thead th {\n",
              "        text-align: right;\n",
              "    }\n",
              "</style>\n",
              "<table border=\"1\" class=\"dataframe\">\n",
              "  <thead>\n",
              "    <tr style=\"text-align: right;\">\n",
              "      <th></th>\n",
              "      <th>Quantity</th>\n",
              "    </tr>\n",
              "    <tr>\n",
              "      <th>Product_Name</th>\n",
              "      <th></th>\n",
              "    </tr>\n",
              "  </thead>\n",
              "  <tbody>\n",
              "    <tr>\n",
              "      <th>Smart Thermostat</th>\n",
              "      <td>1.0</td>\n",
              "    </tr>\n",
              "    <tr>\n",
              "      <th>Bread Maker</th>\n",
              "      <td>1.0</td>\n",
              "    </tr>\n",
              "    <tr>\n",
              "      <th>Stand Mixer</th>\n",
              "      <td>1.0</td>\n",
              "    </tr>\n",
              "    <tr>\n",
              "      <th>Coffee Grinder</th>\n",
              "      <td>1.0</td>\n",
              "    </tr>\n",
              "    <tr>\n",
              "      <th>Toaster Oven</th>\n",
              "      <td>1.0</td>\n",
              "    </tr>\n",
              "    <tr>\n",
              "      <th>...</th>\n",
              "      <td>...</td>\n",
              "    </tr>\n",
              "    <tr>\n",
              "      <th>Sticky Notes</th>\n",
              "      <td>72.0</td>\n",
              "    </tr>\n",
              "    <tr>\n",
              "      <th>Notebook</th>\n",
              "      <td>73.0</td>\n",
              "    </tr>\n",
              "    <tr>\n",
              "      <th>Markers</th>\n",
              "      <td>96.0</td>\n",
              "    </tr>\n",
              "    <tr>\n",
              "      <th>Pencils</th>\n",
              "      <td>123.0</td>\n",
              "    </tr>\n",
              "    <tr>\n",
              "      <th>Pens</th>\n",
              "      <td>160.0</td>\n",
              "    </tr>\n",
              "  </tbody>\n",
              "</table>\n",
              "<p>71 rows × 1 columns</p>\n",
              "</div>\n",
              "    <div class=\"colab-df-buttons\">\n",
              "\n",
              "  <div class=\"colab-df-container\">\n",
              "    <button class=\"colab-df-convert\" onclick=\"convertToInteractive('df-76b6954b-5139-4f61-898c-ab39ea2a3e87')\"\n",
              "            title=\"Convert this dataframe to an interactive table.\"\n",
              "            style=\"display:none;\">\n",
              "\n",
              "  <svg xmlns=\"http://www.w3.org/2000/svg\" height=\"24px\" viewBox=\"0 -960 960 960\">\n",
              "    <path d=\"M120-120v-720h720v720H120Zm60-500h600v-160H180v160Zm220 220h160v-160H400v160Zm0 220h160v-160H400v160ZM180-400h160v-160H180v160Zm440 0h160v-160H620v160ZM180-180h160v-160H180v160Zm440 0h160v-160H620v160Z\"/>\n",
              "  </svg>\n",
              "    </button>\n",
              "\n",
              "  <style>\n",
              "    .colab-df-container {\n",
              "      display:flex;\n",
              "      gap: 12px;\n",
              "    }\n",
              "\n",
              "    .colab-df-convert {\n",
              "      background-color: #E8F0FE;\n",
              "      border: none;\n",
              "      border-radius: 50%;\n",
              "      cursor: pointer;\n",
              "      display: none;\n",
              "      fill: #1967D2;\n",
              "      height: 32px;\n",
              "      padding: 0 0 0 0;\n",
              "      width: 32px;\n",
              "    }\n",
              "\n",
              "    .colab-df-convert:hover {\n",
              "      background-color: #E2EBFA;\n",
              "      box-shadow: 0px 1px 2px rgba(60, 64, 67, 0.3), 0px 1px 3px 1px rgba(60, 64, 67, 0.15);\n",
              "      fill: #174EA6;\n",
              "    }\n",
              "\n",
              "    .colab-df-buttons div {\n",
              "      margin-bottom: 4px;\n",
              "    }\n",
              "\n",
              "    [theme=dark] .colab-df-convert {\n",
              "      background-color: #3B4455;\n",
              "      fill: #D2E3FC;\n",
              "    }\n",
              "\n",
              "    [theme=dark] .colab-df-convert:hover {\n",
              "      background-color: #434B5C;\n",
              "      box-shadow: 0px 1px 3px 1px rgba(0, 0, 0, 0.15);\n",
              "      filter: drop-shadow(0px 1px 2px rgba(0, 0, 0, 0.3));\n",
              "      fill: #FFFFFF;\n",
              "    }\n",
              "  </style>\n",
              "\n",
              "    <script>\n",
              "      const buttonEl =\n",
              "        document.querySelector('#df-76b6954b-5139-4f61-898c-ab39ea2a3e87 button.colab-df-convert');\n",
              "      buttonEl.style.display =\n",
              "        google.colab.kernel.accessAllowed ? 'block' : 'none';\n",
              "\n",
              "      async function convertToInteractive(key) {\n",
              "        const element = document.querySelector('#df-76b6954b-5139-4f61-898c-ab39ea2a3e87');\n",
              "        const dataTable =\n",
              "          await google.colab.kernel.invokeFunction('convertToInteractive',\n",
              "                                                    [key], {});\n",
              "        if (!dataTable) return;\n",
              "\n",
              "        const docLinkHtml = 'Like what you see? Visit the ' +\n",
              "          '<a target=\"_blank\" href=https://colab.research.google.com/notebooks/data_table.ipynb>data table notebook</a>'\n",
              "          + ' to learn more about interactive tables.';\n",
              "        element.innerHTML = '';\n",
              "        dataTable['output_type'] = 'display_data';\n",
              "        await google.colab.output.renderOutput(dataTable, element);\n",
              "        const docLink = document.createElement('div');\n",
              "        docLink.innerHTML = docLinkHtml;\n",
              "        element.appendChild(docLink);\n",
              "      }\n",
              "    </script>\n",
              "  </div>\n",
              "\n",
              "\n",
              "<div id=\"df-e5d25dc8-cc4f-47d8-87bb-623347d6d203\">\n",
              "  <button class=\"colab-df-quickchart\" onclick=\"quickchart('df-e5d25dc8-cc4f-47d8-87bb-623347d6d203')\"\n",
              "            title=\"Suggest charts\"\n",
              "            style=\"display:none;\">\n",
              "\n",
              "<svg xmlns=\"http://www.w3.org/2000/svg\" height=\"24px\"viewBox=\"0 0 24 24\"\n",
              "     width=\"24px\">\n",
              "    <g>\n",
              "        <path d=\"M19 3H5c-1.1 0-2 .9-2 2v14c0 1.1.9 2 2 2h14c1.1 0 2-.9 2-2V5c0-1.1-.9-2-2-2zM9 17H7v-7h2v7zm4 0h-2V7h2v10zm4 0h-2v-4h2v4z\"/>\n",
              "    </g>\n",
              "</svg>\n",
              "  </button>\n",
              "\n",
              "<style>\n",
              "  .colab-df-quickchart {\n",
              "      --bg-color: #E8F0FE;\n",
              "      --fill-color: #1967D2;\n",
              "      --hover-bg-color: #E2EBFA;\n",
              "      --hover-fill-color: #174EA6;\n",
              "      --disabled-fill-color: #AAA;\n",
              "      --disabled-bg-color: #DDD;\n",
              "  }\n",
              "\n",
              "  [theme=dark] .colab-df-quickchart {\n",
              "      --bg-color: #3B4455;\n",
              "      --fill-color: #D2E3FC;\n",
              "      --hover-bg-color: #434B5C;\n",
              "      --hover-fill-color: #FFFFFF;\n",
              "      --disabled-bg-color: #3B4455;\n",
              "      --disabled-fill-color: #666;\n",
              "  }\n",
              "\n",
              "  .colab-df-quickchart {\n",
              "    background-color: var(--bg-color);\n",
              "    border: none;\n",
              "    border-radius: 50%;\n",
              "    cursor: pointer;\n",
              "    display: none;\n",
              "    fill: var(--fill-color);\n",
              "    height: 32px;\n",
              "    padding: 0;\n",
              "    width: 32px;\n",
              "  }\n",
              "\n",
              "  .colab-df-quickchart:hover {\n",
              "    background-color: var(--hover-bg-color);\n",
              "    box-shadow: 0 1px 2px rgba(60, 64, 67, 0.3), 0 1px 3px 1px rgba(60, 64, 67, 0.15);\n",
              "    fill: var(--button-hover-fill-color);\n",
              "  }\n",
              "\n",
              "  .colab-df-quickchart-complete:disabled,\n",
              "  .colab-df-quickchart-complete:disabled:hover {\n",
              "    background-color: var(--disabled-bg-color);\n",
              "    fill: var(--disabled-fill-color);\n",
              "    box-shadow: none;\n",
              "  }\n",
              "\n",
              "  .colab-df-spinner {\n",
              "    border: 2px solid var(--fill-color);\n",
              "    border-color: transparent;\n",
              "    border-bottom-color: var(--fill-color);\n",
              "    animation:\n",
              "      spin 1s steps(1) infinite;\n",
              "  }\n",
              "\n",
              "  @keyframes spin {\n",
              "    0% {\n",
              "      border-color: transparent;\n",
              "      border-bottom-color: var(--fill-color);\n",
              "      border-left-color: var(--fill-color);\n",
              "    }\n",
              "    20% {\n",
              "      border-color: transparent;\n",
              "      border-left-color: var(--fill-color);\n",
              "      border-top-color: var(--fill-color);\n",
              "    }\n",
              "    30% {\n",
              "      border-color: transparent;\n",
              "      border-left-color: var(--fill-color);\n",
              "      border-top-color: var(--fill-color);\n",
              "      border-right-color: var(--fill-color);\n",
              "    }\n",
              "    40% {\n",
              "      border-color: transparent;\n",
              "      border-right-color: var(--fill-color);\n",
              "      border-top-color: var(--fill-color);\n",
              "    }\n",
              "    60% {\n",
              "      border-color: transparent;\n",
              "      border-right-color: var(--fill-color);\n",
              "    }\n",
              "    80% {\n",
              "      border-color: transparent;\n",
              "      border-right-color: var(--fill-color);\n",
              "      border-bottom-color: var(--fill-color);\n",
              "    }\n",
              "    90% {\n",
              "      border-color: transparent;\n",
              "      border-bottom-color: var(--fill-color);\n",
              "    }\n",
              "  }\n",
              "</style>\n",
              "\n",
              "  <script>\n",
              "    async function quickchart(key) {\n",
              "      const quickchartButtonEl =\n",
              "        document.querySelector('#' + key + ' button');\n",
              "      quickchartButtonEl.disabled = true;  // To prevent multiple clicks.\n",
              "      quickchartButtonEl.classList.add('colab-df-spinner');\n",
              "      try {\n",
              "        const charts = await google.colab.kernel.invokeFunction(\n",
              "            'suggestCharts', [key], {});\n",
              "      } catch (error) {\n",
              "        console.error('Error during call to suggestCharts:', error);\n",
              "      }\n",
              "      quickchartButtonEl.classList.remove('colab-df-spinner');\n",
              "      quickchartButtonEl.classList.add('colab-df-quickchart-complete');\n",
              "    }\n",
              "    (() => {\n",
              "      let quickchartButtonEl =\n",
              "        document.querySelector('#df-e5d25dc8-cc4f-47d8-87bb-623347d6d203 button');\n",
              "      quickchartButtonEl.style.display =\n",
              "        google.colab.kernel.accessAllowed ? 'block' : 'none';\n",
              "    })();\n",
              "  </script>\n",
              "</div>\n",
              "\n",
              "    </div>\n",
              "  </div>\n"
            ],
            "application/vnd.google.colaboratory.intrinsic+json": {
              "type": "dataframe",
              "summary": "{\n  \"name\": \"a\",\n  \"rows\": 71,\n  \"fields\": [\n    {\n      \"column\": \"Product_Name\",\n      \"properties\": {\n        \"dtype\": \"string\",\n        \"num_unique_values\": 71,\n        \"samples\": [\n          \"The Girl on the Train\",\n          \"Smart Thermostat\",\n          \"Blender\"\n        ],\n        \"semantic_type\": \"\",\n        \"description\": \"\"\n      }\n    },\n    {\n      \"column\": \"Quantity\",\n      \"properties\": {\n        \"dtype\": \"number\",\n        \"std\": 28.424993961127605,\n        \"min\": 1.0,\n        \"max\": 160.0,\n        \"num_unique_values\": 27,\n        \"samples\": [\n          10.0,\n          20.0,\n          12.0\n        ],\n        \"semantic_type\": \"\",\n        \"description\": \"\"\n      }\n    }\n  ]\n}"
            }
          },
          "metadata": {},
          "execution_count": 57
        }
      ]
    },
    {
      "cell_type": "code",
      "source": [
        "import matplotlib.pyplot as plt\n",
        "\n",
        "# Assuming 'data' is your DataFrame\n",
        "plt.xlabel('Unit_Price')\n",
        "plt.ylabel('Total_Price ')\n",
        "plt.scatter(data['Unit_Price'], data['Total_Price'], color='orange', marker='*')\n",
        "plt.show()"
      ],
      "metadata": {
        "id": "83Ixfa-_IEVc",
        "outputId": "8dc3f320-c810-4f6a-c0f7-f64f19b0e6fe",
        "colab": {
          "base_uri": "https://localhost:8080/",
          "height": 452
        }
      },
      "execution_count": null,
      "outputs": [
        {
          "output_type": "display_data",
          "data": {
            "text/plain": [
              "<Figure size 640x480 with 1 Axes>"
            ],
            "image/png": "[encoded data removed]"
          },
          "metadata": {}
        }
      ]
    },
    {
      "cell_type": "code",
      "source": [
        "from sklearn.model_selection import train_test_split\n",
        "X = data[['Unit_Price']]\n",
        "Y = data['Total_Price']\n",
        "\n",
        "# splir data into test train\n",
        "X_train, X_test, Y_train, Y_test = train_test_split(X, Y, test_size=0.2, random_state=42)\n",
        "\n",
        "\n",
        "model = LinearRegression()\n",
        "model.fit(X_train, Y_train)\n",
        "\n",
        "\n",
        "Y_pred = model.predict(X_test)\n",
        "\n",
        "plt.scatter(X_test, Y_test, color='blue', label='Actual')\n",
        "plt.plot(X_test, Y_pred, color='red', linewidth=2, label='Predicted')\n",
        "plt.xlabel('Unit_Price')\n",
        "plt.ylabel('Total_Price')\n",
        "plt.legend()\n",
        "plt.show()"
      ],
      "metadata": {
        "id": "KKE8JSa7I08A",
        "outputId": "b2aea42f-2b2c-4c28-ee5f-6c1e8b6101d8",
        "colab": {
          "base_uri": "https://localhost:8080/",
          "height": 450
        }
      },
      "execution_count": null,
      "outputs": [
        {
          "output_type": "display_data",
          "data": {
            "text/plain": [
              "<Figure size 640x480 with 1 Axes>"
            ],
            "image/png": "[encoded data removed]"
          },
          "metadata": {}
        }
      ]
    },
    {
      "cell_type": "code",
      "source": [
        "model.intercept_"
      ],
      "metadata": {
        "id": "xtK3MuL2JIz1",
        "outputId": "ebcbc653-6b92-4f1c-9fc1-06e1938b1f04",
        "colab": {
          "base_uri": "https://localhost:8080/"
        }
      },
      "execution_count": null,
      "outputs": [
        {
          "output_type": "execute_result",
          "data": {
            "text/plain": [
              "31.344254007717424"
            ]
          },
          "metadata": {},
          "execution_count": 7
        }
      ]
    },
    {
      "cell_type": "code",
      "source": [
        "model.coef_"
      ],
      "metadata": {
        "id": "G3nprScMJNki",
        "outputId": "a57a816b-be1b-4362-8a59-077499aca00b",
        "colab": {
          "base_uri": "https://localhost:8080/"
        }
      },
      "execution_count": null,
      "outputs": [
        {
          "output_type": "execute_result",
          "data": {
            "text/plain": [
              "array([1.24217488])"
            ]
          },
          "metadata": {},
          "execution_count": 8
        }
      ]
    },
    {
      "cell_type": "code",
      "source": [
        "Y_pred = model.predict(X_test)\n",
        "\n",
        "\n",
        "results = pd.DataFrame({'1': X_test['Unit_Price'], 'Actual Package': Y_test, 'Predicted Package': Y_pred})\n",
        "\n",
        "\n",
        "print(results)"
      ],
      "metadata": {
        "id": "DCOmY5-qJXXY",
        "outputId": "4b2851b5-0b06-4d42-cc40-0b35374f91f0",
        "colab": {
          "base_uri": "https://localhost:8080/"
        }
      },
      "execution_count": null,
      "outputs": [
        {
          "output_type": "stream",
          "name": "stdout",
          "text": [
            "       1  Actual Package  Predicted Package\n",
            "274   15              45          49.976877\n",
            "155   80             160         130.718244\n",
            "84     5              50          37.555128\n",
            "82    12              48          46.250353\n",
            "261   25             100          62.398626\n",
            "9     50             150          93.452998\n",
            "42    15              60          49.976877\n",
            "277  300             600         403.996718\n",
            "282   50             150          93.452998\n",
            "92    14              56          48.734702\n",
            "148    4              24          36.312954\n",
            "211  200             200         279.779230\n",
            "60    30              90          68.609500\n",
            "218    2              40          33.828604\n",
            "262   80             160         130.718244\n",
            "46    40              80          81.031249\n",
            "45    10              50          43.766003\n",
            "236   70              70         118.296496\n",
            "228    2              40          33.828604\n",
            "132   12              48          46.250353\n",
            "143    3              24          35.070779\n",
            "167   15              45          49.976877\n",
            "152   18              54          53.703402\n",
            "93     2              16          33.828604\n",
            "113    3              24          35.070779\n",
            "5    800             800        1025.084157\n",
            "238    4              24          36.312954\n",
            "251   80             160         130.718244\n",
            "170  300             600         403.996718\n",
            "186   80              80         130.718244\n",
            "193    5              50          37.555128\n",
            "33     1              10          32.586429\n",
            "222   12              48          46.250353\n",
            "216   80              80         130.718244\n",
            "197   15              45          49.976877\n",
            "73     2              40          33.828604\n",
            "182   18              54          53.703402\n",
            "119  100             200         155.561742\n",
            "285    4              24          36.312954\n",
            "202   10              50          43.766003\n",
            "204   80             160         130.718244\n",
            "179  100             200         155.561742\n",
            "177   14              56          48.734702\n",
            "111   50              50          93.452998\n",
            "59    80             160         130.718244\n",
            "226   50              50          93.452998\n",
            "25    80             160         130.718244\n",
            "77    10              50          43.766003\n",
            "6    100             200         155.561742\n",
            "175   50             150          93.452998\n",
            "164   20             100          56.187752\n",
            "140  300             600         403.996718\n",
            "30    20              40          56.187752\n",
            "22    18              54          53.703402\n",
            "245   80             160         130.718244\n",
            "24    25             100          62.398626\n",
            "56   200             200         279.779230\n",
            "144   80             160         130.718244\n",
            "124   25             100          62.398626\n",
            "97    20              60          56.187752\n"
          ]
        }
      ]
    },
    {
      "cell_type": "code",
      "source": [
        "import pandas as pd\n",
        "\n",
        "# Assuming 'data' is your original DataFrame\n",
        "# Keep only 'Total_Price' and 'density' columns\n",
        "subset_data = data[['Total_Price', 'Unit_Price']]\n",
        "# data_cleaned = data.dropna()"
      ],
      "metadata": {
        "id": "qFXo7cJieo3b"
      },
      "execution_count": null,
      "outputs": []
    },
    {
      "cell_type": "code",
      "source": [
        "from sklearn.metrics import mean_squared_error, r2_score\n",
        "X = subset_data[['Unit_Price']].values  # Convert to a NumPy array and reshape\n",
        "y = subset_data[['Total_Price']].values\n",
        "# Reshape X to be 2D\n",
        "X = X.reshape(-1, 1)\n",
        "\n",
        "# Split the data into training and test sets\n",
        "X_train, X_test, y_train, y_test = train_test_split(X, y, test_size=0.2, random_state=0)\n",
        "\n",
        "# Create and train the linear regression model\n",
        "model = LinearRegression()\n",
        "model.fit(X_train, y_train)\n",
        "\n",
        "# Predict using the test set\n",
        "y_pred = model.predict(X_test)\n",
        "print(y_pred)\n",
        "# Evaluate the model\n",
        "mse = mean_squared_error(y_test, y_pred)\n",
        "r2 = r2_score(y_test, y_pred)\n",
        "\n",
        "print(f'Mean Squared Error: {mse}')\n",
        "print(f'R-squared: {r2}')\n",
        "\n",
        "# Plot the results\n",
        "plt.scatter(X_test, y_test, color='blue', label='Test data')\n",
        "plt.plot(X_test, y_pred, color='red', linewidth=2, label='Fitted line')\n",
        "plt.xlabel('Unit_Price')\n",
        "plt.ylabel('Total_Price')\n",
        "plt.title('Linear Regression: Unit_Price vs Total_Price')\n",
        "plt.legend()\n",
        "plt.show()"
      ],
      "metadata": {
        "colab": {
          "base_uri": "https://localhost:8080/",
          "height": 1000
        },
        "id": "fHa3N0mPeDWU",
        "outputId": "264c2057-d93c-4e1d-a231-de5aaa9b5955"
      },
      "execution_count": null,
      "outputs": [
        {
          "output_type": "stream",
          "name": "stdout",
          "text": [
            "[[ 410.24231371]\n",
            " [  35.97470612]\n",
            " [  46.02215867]\n",
            " [ 133.93736851]\n",
            " [  46.02215867]\n",
            " [  46.02215867]\n",
            " [  38.48656926]\n",
            " [ 184.17463127]\n",
            " [  37.23063769]\n",
            " [  37.23063769]\n",
            " [  35.97470612]\n",
            " [  96.25942144]\n",
            " [ 121.37805282]\n",
            " [  39.74250083]\n",
            " [  56.06961123]\n",
            " [  96.25942144]\n",
            " [ 159.05599989]\n",
            " [ 159.05599989]\n",
            " [  96.25942144]\n",
            " [  96.25942144]\n",
            " [  48.53402181]\n",
            " [  37.23063769]\n",
            " [ 108.81873713]\n",
            " [ 221.85257835]\n",
            " [ 133.93736851]\n",
            " [  35.97470612]\n",
            " [ 133.93736851]\n",
            " [ 133.93736851]\n",
            " [  37.23063769]\n",
            " [  64.86113221]\n",
            " [  35.97470612]\n",
            " [ 121.37805282]\n",
            " [ 121.37805282]\n",
            " [ 159.05599989]\n",
            " [  38.48656926]\n",
            " [ 159.05599989]\n",
            " [1038.20809826]\n",
            " [  58.58147436]\n",
            " [ 284.6491568 ]\n",
            " [  51.04588495]\n",
            " [  51.04588495]\n",
            " [ 159.05599989]\n",
            " [ 133.93736851]\n",
            " [ 133.93736851]\n",
            " [  48.53402181]\n",
            " [  51.04588495]\n",
            " [ 159.05599989]\n",
            " [  37.23063769]\n",
            " [  39.74250083]\n",
            " [  35.97470612]\n",
            " [ 133.93736851]\n",
            " [  64.86113221]\n",
            " [ 184.17463127]\n",
            " [ 121.37805282]\n",
            " [  58.58147436]\n",
            " [ 133.93736851]\n",
            " [  48.53402181]\n",
            " [ 133.93736851]\n",
            " [  56.06961123]\n",
            " [ 133.93736851]]\n",
            "Mean Squared Error: 2739.4188203149274\n",
            "R-squared: 0.8246735923473603\n"
          ]
        },
        {
          "output_type": "display_data",
          "data": {
            "text/plain": [
              "<Figure size 640x480 with 1 Axes>"
            ],
            "image/png": "[encoded data removed]"
          },
          "metadata": {}
        }
      ]
    },
    {
      "cell_type": "code",
      "source": [
        "import numpy as np\n",
        "import pandas as pd\n",
        "import matplotlib.pyplot as plt\n",
        "from sklearn.model_selection import train_test_split, KFold, cross_val_score\n",
        "from sklearn.metrics import mean_squared_error\n",
        "from sklearn.linear_model import LinearRegression\n",
        "\n",
        "# Load the dataset\n",
        "df = pd.read_csv('/content/data ml.csv')\n",
        "\n",
        "# Define features and target\n",
        "X = df[['Unit_Price']]\n",
        "Y = df['Total_Price']\n",
        "\n",
        "# Split the data into training and testing sets\n",
        "X_train, X_test, Y_train, Y_test = train_test_split(X, Y, test_size=0.2, random_state=0)\n",
        "\n",
        "# Initialize and train the Linear Regression model\n",
        "model = LinearRegression()\n",
        "model.fit(X_train, Y_train)\n",
        "Y_pred = model.predict(X_test)\n",
        "mse = mean_squared_error(Y_test, Y_pred)\n",
        "\n",
        "# Perform K-Fold cross-validation\n",
        "k = 5\n",
        "kf = KFold(n_splits=k, shuffle=True, random_state=42)\n",
        "cv_scores = cross_val_score(model, X_train, Y_train, cv=kf, scoring='neg_mean_squared_error')\n",
        "\n",
        "# Plotting the results\n",
        "plt.scatter(X_test, Y_test, color='red', label='Actual')\n",
        "plt.plot(X_test, Y_pred, color='blue', linewidth=3, label='Predicted')\n",
        "plt.xlabel('Unit_Price')\n",
        "plt.ylabel('Total_Price')\n",
        "plt.title('Linear Regression: Unit_Price vs. Total_Price')\n",
        "plt.legend()\n",
        "plt.show()\n",
        "\n",
        "# Print the results\n",
        "print('Coefficient:', model.coef_[0])\n",
        "print('Intercept:', model.intercept_)\n",
        "print('R^2 score:', model.score(X_test, Y_test))\n",
        "print('Mean squared error (test set):', mse)\n",
        "print('Mean cross-validated MSE:', -np.mean(cv_scores))\n",
        "print('Standard deviation of cross-validated MSE:', np.std(cv_scores))\n"
      ],
      "metadata": {
        "colab": {
          "base_uri": "https://localhost:8080/",
          "height": 581
        },
        "id": "7cHdJBwuZ7iE",
        "outputId": "25f1efcd-2cba-4e4b-cdc7-85fb2a98d3c1"
      },
      "execution_count": null,
      "outputs": [
        {
          "output_type": "display_data",
          "data": {
            "text/plain": [
              "<Figure size 640x480 with 1 Axes>"
            ],
            "image/png": "[encoded data removed]"
          },
          "metadata": {}
        },
        {
          "output_type": "stream",
          "name": "stdout",
          "text": [
            "Coefficient: 1.255931569100689\n",
            "Intercept: 33.46284298122262\n",
            "R^2 score: 0.8246735923473603\n",
            "Mean squared error (test set): 2739.4188203149274\n",
            "Mean cross-validated MSE: 8384.418520576057\n",
            "Standard deviation of cross-validated MSE: 8612.487190004982\n"
          ]
        }
      ]
    },
    {
      "cell_type": "code",
      "source": [
        "import pandas as pd\n",
        "import numpy as np\n",
        "from sklearn.model_selection import train_test_split, KFold, cross_val_score\n",
        "from sklearn.linear_model import LinearRegression\n",
        "from sklearn.metrics import mean_squared_error\n",
        "import matplotlib.pyplot as plt\n",
        "from mpl_toolkits.mplot3d import Axes3D\n",
        "\n",
        "# Load the dataset with a dtype option to prevent mixed types issues\n",
        "df = pd.read_csv('/content/data ml.csv', dtype={'Unit_Price': 'float64', 'Order_ID': 'float64', 'Total_Price': 'float64'}, low_memory=False)\n",
        "\n",
        "# Convert any non-numeric values to NaN and then drop them\n",
        "df[['Unit_Price', 'Order_ID', 'Total_Price']] = df[['Unit_Price', 'Order_ID', 'Total_Price']].apply(pd.to_numeric, errors='coerce')\n",
        "\n",
        "# Drop rows with NaN values\n",
        "df.dropna(subset=['Unit_Price', 'Order_ID', 'Total_Price'], inplace=True)\n",
        "\n",
        "# Define features and target\n",
        "X = df[['Unit_Price', 'Order_ID']]\n",
        "Y = df['Total_Price']\n",
        "\n",
        "# Split the data into training and testing sets\n",
        "X_train, X_test, Y_train, Y_test = train_test_split(X, Y, test_size=0.2, random_state=0)\n",
        "\n",
        "# Initialize and train the Linear Regression model\n",
        "model = LinearRegression()\n",
        "\n",
        "# Perform k-fold cross-validation\n",
        "k = 5\n",
        "kf = KFold(n_splits=k, shuffle=True, random_state=42)\n",
        "cv_scores = cross_val_score(model, X_train, Y_train, cv=kf, scoring='neg_mean_squared_error')\n",
        "\n",
        "# Train the model on the training set\n",
        "model.fit(X_train, Y_train)\n",
        "Y_pred = model.predict(X_test)\n",
        "mse = mean_squared_error(Y_test, Y_pred)\n",
        "\n",
        "# 3D Plot for both features\n",
        "fig = plt.figure()\n",
        "ax = fig.add_subplot(111, projection='3d')\n",
        "ax.scatter(X_test['Unit_Price'], X_test['Order_ID'], Y_test, color='red', label='Actual')\n",
        "ax.scatter(X_test['Unit_Price'], X_test['Order_ID'], Y_pred, color='blue', label='Predicted')\n",
        "ax.set_xlabel('Unit_Price')\n",
        "ax.set_ylabel('Order_ID')\n",
        "ax.set_zlabel('Total_Price')\n",
        "ax.set_title('Linear Regression: Total_Price Prediction')\n",
        "plt.legend()\n",
        "plt.show()\n",
        "\n",
        "# Print the coefficients\n",
        "print('Coefficients:', model.coef_)\n",
        "print('Intercept:', model.intercept_)\n",
        "print('R^2 score:', model.score(X_test, Y_test))\n",
        "print('Mean squared error (test set):', mse)\n",
        "print('Mean cross-validated MSE:', -np.mean(cv_scores))\n",
        "print('Standard deviation of cross-validated MSE:', np.std(cv_scores))"
      ],
      "metadata": {
        "colab": {
          "base_uri": "https://localhost:8080/",
          "height": 547
        },
        "id": "GNWNJb6EeJve",
        "outputId": "a9e7aa67-a559-424b-a00c-736ee551268e"
      },
      "execution_count": null,
      "outputs": [
        {
          "output_type": "display_data",
          "data": {
            "text/plain": [
              "<Figure size 640x480 with 1 Axes>"
            ],
            "image/png": "[encoded data removed]"
          },
          "metadata": {}
        },
        {
          "output_type": "stream",
          "name": "stdout",
          "text": [
            "Coefficients: [ 1.25731169 -0.10054116]\n",
            "Intercept: 147.79553122883152\n",
            "R^2 score: 0.8058643146660891\n",
            "Mean squared error (test set): 3033.307744216733\n",
            "Mean cross-validated MSE: 8541.546457681037\n",
            "Standard deviation of cross-validated MSE: 8598.150988526368\n"
          ]
        }
      ]
    },
    {
      "cell_type": "code",
      "source": [
        "import pandas as pd\n",
        "import numpy as np\n",
        "from scipy import stats\n",
        "\n",
        "# Load the dataset\n",
        "df = pd.read_csv('/content/data ml.csv')\n",
        "\n",
        "# Define features and target as 1D arrays\n",
        "X = df['Unit_Price'].values.flatten()\n",
        "Y = df['Total_Price'].values.flatten()\n",
        "\n",
        "# Perform the paired t-test\n",
        "t_stat, p_value = stats.ttest_rel(X, Y)\n",
        "\n",
        "# Define alpha (significance level)\n",
        "alpha = 0.05\n",
        "\n",
        "# Output the results\n",
        "print(f\"T-statistic: {t_stat}\")\n",
        "print(f\"P-value: {p_value}\")\n",
        "\n",
        "# Interpret the result\n",
        "if p_value < alpha:\n",
        "    print(\"Reject the null hypothesis: The means are significantly different.\")\n",
        "else:\n",
        "    print(\"Fail to reject the null hypothesis: No significant difference between means.\")\n"
      ],
      "metadata": {
        "colab": {
          "base_uri": "https://localhost:8080/"
        },
        "id": "QlJip_i-fuIx",
        "outputId": "8135aa2e-bd76-4350-cfa7-539499e56be9"
      },
      "execution_count": null,
      "outputs": [
        {
          "output_type": "stream",
          "name": "stdout",
          "text": [
            "T-statistic: -10.532375813070992\n",
            "P-value: 3.1376857474770793e-22\n",
            "Reject the null hypothesis: The means are significantly different.\n"
          ]
        }
      ]
    },
    {
      "cell_type": "code",
      "source": [
        "import pandas as pd\n",
        "import numpy as np\n",
        "from scipy import stats\n",
        "\n",
        "# Load the dataset\n",
        "df = pd.read_csv('/content/data ml.csv')\n",
        "\n",
        "# Define features and target\n",
        "X = df[['Unit_Price', 'Order_ID']]\n",
        "Y = df['Total_Price']\n",
        "\n",
        "# Perform t-tests for each column in X against Y\n",
        "for col in X.columns:\n",
        "    t_stat, p_value = stats.ttest_ind(X[col], Y)\n",
        "\n",
        "    # Output the results\n",
        "    print(f\"T-statistic for {col}: {t_stat}\")\n",
        "    print(f\"P-value for {col}: {p_value}\")\n",
        "\n",
        "    # Interpretation\n",
        "    alpha = 0.05\n",
        "    if p_value < alpha:\n",
        "        print(f\"Reject the null hypothesis: The mean of {col} is significantly different from the mean of Total_Price.\")\n",
        "    else:\n",
        "        print(f\"Fail to reject the null hypothesis: No significant difference between the mean of {col} and the mean of Total_Price.\")\n"
      ],
      "metadata": {
        "colab": {
          "base_uri": "https://localhost:8080/"
        },
        "id": "PspWU3AWgqD4",
        "outputId": "679c00d1-9a24-4c83-8b9e-0aa3645cab19"
      },
      "execution_count": null,
      "outputs": [
        {
          "output_type": "stream",
          "name": "stdout",
          "text": [
            "T-statistic for Unit_Price: -3.6787666995508794\n",
            "P-value for Unit_Price: 0.0002557997010640805\n",
            "Reject the null hypothesis: The mean of Unit_Price is significantly different from the mean of Total_Price.\n",
            "T-statistic for Order_ID: 82.176726832065\n",
            "P-value for Order_ID: 0.0\n",
            "Reject the null hypothesis: The mean of Order_ID is significantly different from the mean of Total_Price.\n"
          ]
        }
      ]
    },
    {
      "cell_type": "code",
      "source": [
        "import numpy as np\n",
        "from scipy import stats\n",
        "import pandas as pd\n",
        "\n",
        "\n",
        "df = pd.read_csv('/content/data ml.csv')\n",
        "\n",
        "# Define features and target\n",
        "X = df[['Unit_Price']]\n",
        "Y = df['Total_Price']\n",
        "\n",
        "# Filter data for two groups\n",
        "group1 = df[df['Quantity'] == 1]['Total_Price']\n",
        "group2 = df[df['Quantity'] == 2]['Total_Price']\n",
        "\n",
        "# Perform independent two-sample t-test\n",
        "t_stat, p_value = stats.ttest_ind(group1, group2)\n",
        "\n",
        "# Output the results\n",
        "print(f\"T-statistic: {t_stat}\")\n",
        "print(f\"P-value: {p_value}\")\n",
        "\n",
        "# Interpretation\n",
        "if p_value < alpha:\n",
        "    print(\"Reject the null hypothesis: The means of the two groups are significantly different.\")\n",
        "else:\n",
        "    print(\"Fail to reject the null hypothesis: No significant difference between the means of the two groups.\")"
      ],
      "metadata": {
        "colab": {
          "base_uri": "https://localhost:8080/"
        },
        "id": "b0Iw1UaChgBy",
        "outputId": "1a00288c-45a6-4f17-c8d2-f00fc826b234"
      },
      "execution_count": null,
      "outputs": [
        {
          "output_type": "stream",
          "name": "stdout",
          "text": [
            "T-statistic: -1.5210041646188084\n",
            "P-value: 0.1306873972824958\n",
            "Fail to reject the null hypothesis: No significant difference between the means of the two groups.\n"
          ]
        }
      ]
    },
    {
      "cell_type": "code",
      "source": [
        "import pandas as pd\n",
        "import numpy as np\n",
        "from sklearn.model_selection import train_test_split\n",
        "from sklearn.linear_model import LogisticRegression\n",
        "from statsmodels.stats.contingency_tables import mcnemar\n",
        "\n",
        "# Step 1: Load the dataset\n",
        "df = pd.read_csv('/content/data ml.csv')\n",
        "\n",
        "# Step 2: Drop rows with missing values in relevant columns\n",
        "df = df.dropna(subset=['Unit_Price', 'Quantity', 'Total_Price'])\n",
        "\n",
        "# Step 3: Define features and target\n",
        "X = df[['Unit_Price', 'Quantity']]\n",
        "y_true = df['Total_Price']  # Assuming 'price' is the target variable\n",
        "\n",
        "# Step 4: Ensure X and y_true have the same length\n",
        "print(f\"Length of X: {len(X)}\")\n",
        "print(f\"Length of y_true: {len(y_true)}\")\n",
        "\n",
        "if len(X) != len(y_true):\n",
        "    raise ValueError(\"Features and target have different numbers of samples.\")\n",
        "\n",
        "# Step 5: Split the data into training and testing sets\n",
        "X_train, X_test, y_train, y_test = train_test_split(X, y_true, test_size=0.2, random_state=0)\n",
        "\n",
        "# Step 6: Initialize and train two classifiers (using Logistic Regression as an example)\n",
        "model1 = LogisticRegression()\n",
        "model2 = LogisticRegression()\n",
        "\n",
        "model1.fit(X_train, y_train)\n",
        "model2.fit(X_train, y_train)\n",
        "\n",
        "# Step 7: Get predictions from both models\n",
        "pred_model1 = model1.predict(X_test)\n",
        "pred_model2 = model2.predict(X_test)\n",
        "\n",
        "# Step 8: Construct the contingency table for McNemar's test\n",
        "table = np.zeros((2, 2))\n",
        "\n",
        "for true, pred1, pred2 in zip(y_test, pred_model1, pred_model2):\n",
        "    if pred1 == true and pred2 == true:\n",
        "        table[0, 0] += 1  # Both correct\n",
        "    elif pred1 == true and pred2 != true:\n",
        "        table[0, 1] += 1  # Model 1 correct, Model 2 incorrect\n",
        "    elif pred1 != true and pred2 == true:\n",
        "        table[1, 0] += 1  # Model 1 incorrect, Model 2 correct\n",
        "    else:\n",
        "        table[1, 1] += 1  # Both incorrect\n",
        "\n",
        "# Step 9: Perform the McNemar test\n",
        "result = mcnemar(table, exact=True)  # exact=True for small sample sizes\n",
        "\n",
        "# Step 10: Print the test statistic and p-value\n",
        "print(f\"Statistic: {result.statistic}\")\n",
        "print(f\"P-value: {result.pvalue}\")\n",
        "\n",
        "# Step 11: Interpretation\n",
        "alpha = 0.05\n",
        "if result.pvalue < alpha:\n",
        "    print(\"Reject the null hypothesis: There is a significant difference between the two models.\")\n",
        "else:\n",
        "    print(\"Fail to reject the null hypothesis: No significant difference between the two models.\")"
      ],
      "metadata": {
        "colab": {
          "base_uri": "https://localhost:8080/"
        },
        "id": "KXH5sN5FiBPW",
        "outputId": "e9efeb45-a1a8-4db0-aa7a-2572f4ddf055"
      },
      "execution_count": null,
      "outputs": [
        {
          "output_type": "stream",
          "name": "stdout",
          "text": [
            "Length of X: 291\n",
            "Length of y_true: 291\n",
            "Statistic: 0.0\n",
            "P-value: 1.0\n",
            "Fail to reject the null hypothesis: No significant difference between the two models.\n"
          ]
        },
        {
          "output_type": "stream",
          "name": "stderr",
          "text": [
            "/usr/local/lib/python3.10/dist-packages/sklearn/linear_model/_logistic.py:460: ConvergenceWarning: lbfgs failed to converge (status=1):\n",
            "STOP: TOTAL NO. of ITERATIONS REACHED LIMIT.\n",
            "\n",
            "Increase the number of iterations (max_iter) or scale the data as shown in:\n",
            "    https://scikit-learn.org/stable/modules/preprocessing.html\n",
            "Please also refer to the documentation for alternative solver options:\n",
            "    https://scikit-learn.org/stable/modules/linear_model.html#logistic-regression\n",
            "  n_iter_i = _check_optimize_result(\n",
            "/usr/local/lib/python3.10/dist-packages/sklearn/linear_model/_logistic.py:460: ConvergenceWarning: lbfgs failed to converge (status=1):\n",
            "STOP: TOTAL NO. of ITERATIONS REACHED LIMIT.\n",
            "\n",
            "Increase the number of iterations (max_iter) or scale the data as shown in:\n",
            "    https://scikit-learn.org/stable/modules/preprocessing.html\n",
            "Please also refer to the documentation for alternative solver options:\n",
            "    https://scikit-learn.org/stable/modules/linear_model.html#logistic-regression\n",
            "  n_iter_i = _check_optimize_result(\n"
          ]
        }
      ]
    },
    {
      "cell_type": "code",
      "source": [
        "import pandas as pd\n",
        "from sklearn.model_selection import train_test_split\n",
        "from sklearn.linear_model import LogisticRegression\n",
        "from sklearn.metrics import accuracy_score\n",
        "from sklearn.preprocessing import StandardScaler\n",
        "from sklearn.impute import SimpleImputer\n",
        "\n",
        "# Example data preparation step - assuming 'data' is your DataFrame\n",
        "# One-hot encode categorical features\n",
        "X = pd.get_dummies(data.drop(columns=['Unit_Price']), drop_first=True)\n",
        "y = data['Unit_Price']\n",
        "\n",
        "# Handle missing values\n",
        "\n",
        "# Impute numerical columns with median\n",
        "numerical_imputer = SimpleImputer(strategy='median')\n",
        "X_num = X.select_dtypes(include=['float64', 'int64'])\n",
        "\n",
        "if not X_num.empty:\n",
        "    X_num_imputed = pd.DataFrame(numerical_imputer.fit_transform(X_num), columns=X_num.columns)\n",
        "else:\n",
        "    X_num_imputed = pd.DataFrame()\n",
        "\n",
        "# Impute categorical columns with most frequent\n",
        "categorical_imputer = SimpleImputer(strategy='most_frequent')\n",
        "X_cat = X.select_dtypes(include=['object', 'category'])\n",
        "\n",
        "if not X_cat.empty:\n",
        "    X_cat_imputed = pd.DataFrame(categorical_imputer.fit_transform(X_cat), columns=X_cat.columns)\n",
        "else:\n",
        "    X_cat_imputed = pd.DataFrame()\n",
        "\n",
        "# Combine numerical and categorical data back together\n",
        "X = pd.concat([X_num_imputed, X_cat_imputed], axis=1)\n",
        "\n",
        "# Split the data into training and test sets\n",
        "X_train, X_test, y_train, y_test = train_test_split(X, y, test_size=0.2, random_state=42)\n",
        "\n",
        "# Standardize the features\n",
        "sc = StandardScaler()\n",
        "X_train = sc.fit_transform(X_train)\n",
        "X_test = sc.transform(X_test)\n",
        "\n",
        "# Initialize the model\n",
        "model = LogisticRegression()\n",
        "\n",
        "# Train the model\n",
        "model.fit(X_train, y_train)\n",
        "\n",
        "# Make predictions\n",
        "y_pred = model.predict(X_test)\n",
        "\n",
        "# Calculate accuracy\n",
        "accuracy = accuracy_score(y_test, y_pred)\n",
        "print(f'Accuracy: {accuracy:.2f}')\n"
      ],
      "metadata": {
        "colab": {
          "base_uri": "https://localhost:8080/"
        },
        "id": "FfW385IGPwaX",
        "outputId": "836d78d8-2c54-493d-8e83-1c8743a6aaf6"
      },
      "execution_count": null,
      "outputs": [
        {
          "output_type": "stream",
          "name": "stdout",
          "text": [
            "Accuracy: 0.32\n"
          ]
        }
      ]
    },
    {
      "cell_type": "code",
      "source": [
        "y_predicted = model.predict(X_test)\n",
        "from sklearn.metrics import confusion_matrix\n",
        "cm = confusion_matrix(y_test, y_predicted)\n",
        "cm"
      ],
      "metadata": {
        "colab": {
          "base_uri": "https://localhost:8080/"
        },
        "id": "Qau51vggRhXD",
        "outputId": "fc46ed3e-764b-4341-ee7c-4e605612e04d"
      },
      "execution_count": null,
      "outputs": [
        {
          "output_type": "execute_result",
          "data": {
            "text/plain": [
              "array([[ 0,  0,  1,  0,  0,  0,  0,  0,  0,  0,  0,  0,  0,  0,  0,  0,\n",
              "         0,  0,  0,  0,  0],\n",
              "       [ 0,  3,  1,  0,  0,  0,  0,  0,  0,  0,  0,  0,  0,  0,  0,  0,\n",
              "         0,  0,  0,  0,  0],\n",
              "       [ 0,  0,  2,  0,  0,  0,  0,  0,  0,  0,  0,  0,  0,  0,  0,  0,\n",
              "         0,  0,  0,  0,  0],\n",
              "       [ 0,  0,  0,  0,  0,  3,  0,  0,  0,  0,  0,  0,  0,  0,  0,  0,\n",
              "         0,  0,  0,  0,  0],\n",
              "       [ 0,  0,  2,  0,  0,  0,  0,  0,  0,  0,  0,  0,  0,  0,  0,  0,\n",
              "         0,  0,  0,  0,  0],\n",
              "       [ 0,  0,  0,  0,  0,  2,  0,  0,  0,  0,  1,  0,  0,  0,  0,  0,\n",
              "         0,  0,  0,  0,  0],\n",
              "       [ 0,  0,  0,  0,  0,  3,  0,  0,  0,  0,  0,  0,  0,  0,  0,  0,\n",
              "         0,  0,  0,  0,  0],\n",
              "       [ 0,  0,  0,  0,  0,  2,  0,  0,  0,  0,  0,  0,  0,  0,  0,  0,\n",
              "         0,  0,  0,  0,  0],\n",
              "       [ 0,  0,  0,  0,  0,  0,  0,  0,  0,  0,  1,  0,  0,  0,  0,  0,\n",
              "         3,  0,  0,  0,  0],\n",
              "       [ 0,  0,  0,  0,  0,  0,  0,  0,  1,  0,  0,  0,  0,  0,  0,  0,\n",
              "         2,  0,  0,  0,  0],\n",
              "       [ 0,  0,  0,  0,  0,  1,  0,  0,  0,  0,  0,  0,  0,  0,  0,  0,\n",
              "         2,  0,  0,  0,  0],\n",
              "       [ 0,  0,  0,  0,  0,  1,  0,  0,  0,  0,  1,  0,  0,  0,  1,  0,\n",
              "         0,  0,  0,  0,  0],\n",
              "       [ 0,  0,  0,  0,  0,  0,  0,  0,  0,  0,  0,  0,  0,  0,  1,  0,\n",
              "         0,  0,  0,  0,  0],\n",
              "       [ 0,  0,  0,  0,  0,  0,  0,  0,  0,  0,  0,  0,  0,  0,  0,  0,\n",
              "         1,  0,  0,  0,  0],\n",
              "       [ 0,  0,  0,  0,  0,  0,  0,  0,  0,  0,  1,  0,  0,  0,  0,  0,\n",
              "         4,  0,  0,  0,  0],\n",
              "       [ 0,  0,  0,  0,  0,  0,  0,  0,  0,  0,  0,  0,  0,  0,  0,  0,\n",
              "         1,  0,  0,  0,  0],\n",
              "       [ 0,  0,  0,  0,  0,  0,  0,  0,  0,  0,  0,  0,  0,  0,  0,  0,\n",
              "        10,  0,  0,  0,  0],\n",
              "       [ 0,  0,  0,  0,  0,  0,  0,  0,  0,  0,  0,  0,  0,  0,  0,  0,\n",
              "         2,  1,  0,  0,  0],\n",
              "       [ 0,  0,  0,  0,  0,  0,  0,  0,  0,  0,  0,  0,  0,  0,  0,  0,\n",
              "         2,  0,  0,  0,  0],\n",
              "       [ 0,  0,  0,  0,  0,  0,  0,  0,  0,  0,  0,  0,  0,  0,  0,  0,\n",
              "         0,  0,  0,  1,  2],\n",
              "       [ 0,  0,  0,  0,  0,  0,  0,  0,  0,  0,  0,  0,  0,  0,  0,  0,\n",
              "         0,  0,  0,  1,  0]])"
            ]
          },
          "metadata": {},
          "execution_count": 9
        }
      ]
    },
    {
      "cell_type": "code",
      "source": [
        "results = X_test.copy()\n",
        "results = pd.DataFrame(sc.inverse_transform(results), columns=X.columns)\n",
        "results['Actual Type'] = y_test.values\n",
        "results['Predicted Type'] = y_pred\n",
        "\n",
        "print(results)"
      ],
      "metadata": {
        "colab": {
          "base_uri": "https://localhost:8080/"
        },
        "id": "_5tLqYnURnMI",
        "outputId": "64a862e6-ee93-48a1-f372-1ba3937a27f7"
      },
      "execution_count": null,
      "outputs": [
        {
          "output_type": "stream",
          "name": "stdout",
          "text": [
            "    Order_ID  Quantity  Total_Price  Actual Type  Predicted Type\n",
            "0     1228.0       3.0         45.0           15              80\n",
            "1     1156.0       2.0        160.0           80              80\n",
            "2     1085.0      10.0         50.0            5               3\n",
            "3     1083.0       4.0         48.0           12              10\n",
            "4     1215.0       4.0        100.0           25              10\n",
            "5     1010.0       3.0        150.0           50              20\n",
            "6     1043.0       4.0         60.0           15              20\n",
            "7     1231.0       2.0        600.0          300             800\n",
            "8     1236.0       3.0        150.0           50              80\n",
            "9     1093.0       4.0         56.0           14              10\n",
            "10    1149.0       6.0         24.0            4              10\n",
            "11    1212.0       1.0        200.0          200              80\n",
            "12    1061.0       3.0         90.0           30              50\n",
            "13    1219.0      20.0         40.0            2               2\n",
            "14    1216.0       2.0        160.0           80              80\n",
            "15    1047.0       2.0         80.0           40              80\n",
            "16    1046.0       5.0         50.0           10              20\n",
            "17    1237.0       1.0         70.0           70              80\n",
            "18    1229.0      20.0         40.0            2               2\n",
            "19    1133.0       4.0         48.0           12              10\n",
            "20    1144.0       8.0         24.0            3               3\n",
            "21    1168.0       3.0         45.0           15              80\n",
            "22    1153.0       3.0         54.0           18              80\n",
            "23    1094.0       8.0         16.0            2               3\n",
            "24    1114.0       8.0         24.0            3               3\n",
            "25    1006.0       1.0        800.0          800             300\n",
            "26    1239.0       6.0         24.0            4              10\n",
            "27    1205.0       2.0        160.0           80              80\n",
            "28    1171.0       2.0        600.0          300             800\n",
            "29    1187.0       1.0         80.0           80              80\n",
            "30    1194.0      10.0         50.0            5               3\n",
            "31    1034.0      10.0         10.0            1               3\n",
            "32    1223.0       4.0         48.0           12              10\n",
            "33    1217.0       1.0         80.0           80              80\n",
            "34    1198.0       3.0         45.0           15              80\n",
            "35    1074.0      20.0         40.0            2               2\n",
            "36    1183.0       3.0         54.0           18              80\n",
            "37    1120.0       2.0        200.0          100              80\n",
            "38    1239.0       6.0         24.0            4              10\n",
            "39    1203.0       5.0         50.0           10              10\n",
            "40    1205.0       2.0        160.0           80              80\n",
            "41    1180.0       2.0        200.0          100              80\n",
            "42    1178.0       4.0         56.0           14              10\n",
            "43    1112.0       1.0         50.0           50              80\n",
            "44    1060.0       2.0        160.0           80              80\n",
            "45    1227.0       1.0         50.0           50              80\n",
            "46    1026.0       2.0        160.0           80              80\n",
            "47    1078.0       5.0         50.0           10              10\n",
            "48    1007.0       2.0        200.0          100             100\n",
            "49    1176.0       3.0        150.0           50              80\n",
            "50    1165.0       5.0        100.0           20              10\n",
            "51    1141.0       2.0        600.0          300             300\n",
            "52    1031.0       2.0         40.0           20              80\n",
            "53    1023.0       3.0         54.0           18              15\n",
            "54    1246.0       2.0        160.0           80              80\n",
            "55    1025.0       4.0        100.0           25              20\n",
            "56    1057.0       1.0        200.0          200              80\n",
            "57    1145.0       2.0        160.0           80              80\n",
            "58    1125.0       4.0        100.0           25              50\n",
            "59    1098.0       3.0         60.0           20              80\n"
          ]
        }
      ]
    },
    {
      "cell_type": "code",
      "source": [
        "import pandas as pd\n",
        "from sklearn.model_selection import KFold, cross_val_score\n",
        "from sklearn.linear_model import LogisticRegression\n",
        "from sklearn.preprocessing import StandardScaler\n",
        "from sklearn.impute import SimpleImputer\n",
        "\n",
        "# Assuming 'data' is your DataFrame\n",
        "X = data.drop(columns=['Unit_Price'])\n",
        "y = data['Total_Price']\n",
        "\n",
        "# One-hot encode categorical variables\n",
        "X = pd.get_dummies(X, drop_first=True)\n",
        "\n",
        "# Handle missing values if necessary\n",
        "imputer = SimpleImputer(strategy='mean')\n",
        "X = imputer.fit_transform(X)\n",
        "\n",
        "# Standardize the data\n",
        "sc = StandardScaler()\n",
        "X = sc.fit_transform(X)\n",
        "\n",
        "# Initialize the model\n",
        "model = LogisticRegression()\n",
        "\n",
        "# K-Fold Cross-Validation\n",
        "kf = KFold(n_splits=5, shuffle=True, random_state=42)\n",
        "cv_scores = cross_val_score(model, X, y, cv=kf, scoring='accuracy')\n",
        "\n",
        "print(f'Cross-Validation Accuracy Scores: {cv_scores}')\n",
        "print(f'Mean Cross-Validation Accuracy: {cv_scores.mean():.2f}')\n"
      ],
      "metadata": {
        "colab": {
          "base_uri": "https://localhost:8080/"
        },
        "id": "V-KLZDWaR4li",
        "outputId": "af24a4ca-c621-4f83-8d0c-3cf42aec0b25"
      },
      "execution_count": null,
      "outputs": [
        {
          "output_type": "stream",
          "name": "stderr",
          "text": [
            "/usr/local/lib/python3.10/dist-packages/sklearn/linear_model/_logistic.py:460: ConvergenceWarning: lbfgs failed to converge (status=1):\n",
            "STOP: TOTAL NO. of ITERATIONS REACHED LIMIT.\n",
            "\n",
            "Increase the number of iterations (max_iter) or scale the data as shown in:\n",
            "    https://scikit-learn.org/stable/modules/preprocessing.html\n",
            "Please also refer to the documentation for alternative solver options:\n",
            "    https://scikit-learn.org/stable/modules/linear_model.html#logistic-regression\n",
            "  n_iter_i = _check_optimize_result(\n",
            "/usr/local/lib/python3.10/dist-packages/sklearn/linear_model/_logistic.py:460: ConvergenceWarning: lbfgs failed to converge (status=1):\n",
            "STOP: TOTAL NO. of ITERATIONS REACHED LIMIT.\n",
            "\n",
            "Increase the number of iterations (max_iter) or scale the data as shown in:\n",
            "    https://scikit-learn.org/stable/modules/preprocessing.html\n",
            "Please also refer to the documentation for alternative solver options:\n",
            "    https://scikit-learn.org/stable/modules/linear_model.html#logistic-regression\n",
            "  n_iter_i = _check_optimize_result(\n",
            "/usr/local/lib/python3.10/dist-packages/sklearn/linear_model/_logistic.py:460: ConvergenceWarning: lbfgs failed to converge (status=1):\n",
            "STOP: TOTAL NO. of ITERATIONS REACHED LIMIT.\n",
            "\n",
            "Increase the number of iterations (max_iter) or scale the data as shown in:\n",
            "    https://scikit-learn.org/stable/modules/preprocessing.html\n",
            "Please also refer to the documentation for alternative solver options:\n",
            "    https://scikit-learn.org/stable/modules/linear_model.html#logistic-regression\n",
            "  n_iter_i = _check_optimize_result(\n",
            "/usr/local/lib/python3.10/dist-packages/sklearn/linear_model/_logistic.py:460: ConvergenceWarning: lbfgs failed to converge (status=1):\n",
            "STOP: TOTAL NO. of ITERATIONS REACHED LIMIT.\n",
            "\n",
            "Increase the number of iterations (max_iter) or scale the data as shown in:\n",
            "    https://scikit-learn.org/stable/modules/preprocessing.html\n",
            "Please also refer to the documentation for alternative solver options:\n",
            "    https://scikit-learn.org/stable/modules/linear_model.html#logistic-regression\n",
            "  n_iter_i = _check_optimize_result(\n"
          ]
        },
        {
          "output_type": "stream",
          "name": "stdout",
          "text": [
            "Cross-Validation Accuracy Scores: [0.85       0.84745763 0.81355932 0.76271186 0.81355932]\n",
            "Mean Cross-Validation Accuracy: 0.82\n"
          ]
        },
        {
          "output_type": "stream",
          "name": "stderr",
          "text": [
            "/usr/local/lib/python3.10/dist-packages/sklearn/linear_model/_logistic.py:460: ConvergenceWarning: lbfgs failed to converge (status=1):\n",
            "STOP: TOTAL NO. of ITERATIONS REACHED LIMIT.\n",
            "\n",
            "Increase the number of iterations (max_iter) or scale the data as shown in:\n",
            "    https://scikit-learn.org/stable/modules/preprocessing.html\n",
            "Please also refer to the documentation for alternative solver options:\n",
            "    https://scikit-learn.org/stable/modules/linear_model.html#logistic-regression\n",
            "  n_iter_i = _check_optimize_result(\n"
          ]
        }
      ]
    },
    {
      "cell_type": "code",
      "source": [
        "cm = confusion_matrix(y_test, y_pred)\n",
        "\n",
        "# Extract values for the contingency table\n",
        "tp = cm[0, 0]  # True Positives\n",
        "fn = cm[0, 1]  # False Negatives\n",
        "fp = cm[1, 0]  # False Positives\n",
        "tn = cm[1, 1]  # True Negatives\n",
        "\n",
        "# Print the contingency table\n",
        "print(f'Contingency Table:')\n",
        "print(f'                | Predicted Positive | Predicted Negative |')\n",
        "print(f'Actual Positive | TP = {tp}          | FN = {fn}          |')\n",
        "print(f'Actual Negative | FP = {fp}          | TN = {tn}          |')"
      ],
      "metadata": {
        "colab": {
          "base_uri": "https://localhost:8080/"
        },
        "id": "OstpSYwzTLf6",
        "outputId": "26d2fd4d-4c38-4d95-8f58-427ef6692d8b"
      },
      "execution_count": null,
      "outputs": [
        {
          "output_type": "stream",
          "name": "stdout",
          "text": [
            "Contingency Table:\n",
            "                | Predicted Positive | Predicted Negative |\n",
            "Actual Positive | TP = 0          | FN = 0          |\n",
            "Actual Negative | FP = 0          | TN = 3          |\n"
          ]
        }
      ]
    },
    {
      "cell_type": "code",
      "source": [
        "import pandas as pd\n",
        "from scipy.stats import ttest_ind\n",
        "\n",
        "# Assuming 'data' is your DataFrame\n",
        "X = data.drop(columns=['Unit_Price'])\n",
        "y = data['Total_Price']\n",
        "\n",
        "# Ensure y is binary for the t-test\n",
        "# Binning y into two categories for demonstration (you can adjust this as needed)\n",
        "y_binned = pd.qcut(y, q=2, labels=False)\n",
        "\n",
        "# Perform t-test for each numeric feature\n",
        "numeric_columns = X.select_dtypes(include=['number']).columns\n",
        "\n",
        "for column in numeric_columns:\n",
        "    group1 = X[y_binned == 0][column]\n",
        "    group2 = X[y_binned == 1][column]\n",
        "    t_stat, p_val = ttest_ind(group1, group2, nan_policy='omit')\n",
        "    print(f'T-test for {column}: t-statistic = {t_stat}, p-value = {p_val}')\n"
      ],
      "metadata": {
        "colab": {
          "base_uri": "https://localhost:8080/"
        },
        "id": "ArVwx-yCTTwm",
        "outputId": "3b063efa-4b40-470b-a95a-71436bafff47"
      },
      "execution_count": null,
      "outputs": [
        {
          "output_type": "stream",
          "name": "stdout",
          "text": [
            "T-test for Order_ID: t-statistic = -1.1764401896865548, p-value = 0.24037067439159646\n",
            "T-test for Quantity: t-statistic = 7.52257899306711, p-value = 6.831392576155737e-13\n",
            "T-test for Total_Price: t-statistic = -9.402537841459521, p-value = 1.5714673866329913e-18\n"
          ]
        }
      ]
    },
    {
      "cell_type": "code",
      "source": [
        "import pandas as pd\n",
        "from sklearn.model_selection import KFold, cross_val_score, train_test_split\n",
        "from sklearn.linear_model import LogisticRegression\n",
        "from sklearn.svm import SVC\n",
        "from sklearn.tree import DecisionTreeClassifier\n",
        "from sklearn.metrics import accuracy_score, confusion_matrix\n",
        "from sklearn.preprocessing import StandardScaler\n",
        "from statsmodels.stats.contingency_tables import mcnemar\n",
        "from sklearn.impute import SimpleImputer\n",
        "\n",
        "# Assuming 'data' is your DataFrame\n",
        "X = data.drop(columns=['Unit_Price'])\n",
        "y = data['Total_Price']\n",
        "\n",
        "# One-hot encode categorical variables\n",
        "X = pd.get_dummies(X, drop_first=True)\n",
        "\n",
        "# Handle missing values if necessary\n",
        "imputer = SimpleImputer(strategy='mean')\n",
        "X = imputer.fit_transform(X)\n",
        "\n",
        "# Standardize the data\n",
        "sc = StandardScaler()\n",
        "X = sc.fit_transform(X)\n",
        "\n",
        "# Initialize the models\n",
        "logistic_model = LogisticRegression()\n",
        "svm_model = SVC()\n",
        "tree_model = DecisionTreeClassifier()\n",
        "\n",
        "# K-Fold Cross-Validation\n",
        "kf = KFold(n_splits=5, shuffle=True, random_state=42)\n",
        "\n",
        "# Logistic Regression\n",
        "logistic_cv_scores = cross_val_score(logistic_model, X, y, cv=kf, scoring='accuracy')\n",
        "print(f'Logistic Regression Cross-Validation Accuracy Scores: {logistic_cv_scores}')\n",
        "print(f'Mean Logistic Regression Cross-Validation Accuracy: {logistic_cv_scores.mean():.2f}')\n",
        "\n",
        "# SVM\n",
        "svm_cv_scores = cross_val_score(svm_model, X, y, cv=kf, scoring='accuracy')\n",
        "print(f'SVM Cross-Validation Accuracy Scores: {svm_cv_scores}')\n",
        "print(f'Mean SVM Cross-Validation Accuracy: {svm_cv_scores.mean():.2f}')\n",
        "\n",
        "# Decision Tree\n",
        "tree_cv_scores = cross_val_score(tree_model, X, y, cv=kf, scoring='accuracy')\n",
        "print(f'Decision Tree Cross-Validation Accuracy Scores: {tree_cv_scores}')\n",
        "print(f'Mean Decision Tree Cross-Validation Accuracy: {tree_cv_scores.mean():.2f}')\n",
        "\n",
        "# Train-test split for McNemar's test\n",
        "X_train, X_test, y_train, y_test = train_test_split(X, y, test_size=0.2, random_state=42)\n",
        "\n",
        "# Fit the models\n",
        "logistic_model.fit(X_train, y_train)\n",
        "svm_model.fit(X_train, y_train)\n",
        "tree_model.fit(X_train, y_train)\n",
        "\n",
        "# Predictions\n",
        "y_pred_logistic = logistic_model.predict(X_test)\n",
        "y_pred_svm = svm_model.predict(X_test)\n",
        "y_pred_tree = tree_model.predict(X_test)\n",
        "\n",
        "# Confusion matrices\n",
        "cm_logistic = confusion_matrix(y_test, y_pred_logistic)\n",
        "cm_svm = confusion_matrix(y_test, y_pred_svm)\n",
        "cm_tree = confusion_matrix(y_test, y_pred_tree)\n",
        "\n",
        "# McNemar's test for Logistic Regression vs SVM\n",
        "contingency_table_logistic_svm = [[cm_logistic[0, 0], cm_logistic[0, 1]], [cm_svm[1, 0], cm_svm[1, 1]]]\n",
        "result_logistic_svm = mcnemar(contingency_table_logistic_svm, exact=True)\n",
        "print(f'McNemar\\'s Test p-value (Logistic Regression vs SVM): {result_logistic_svm.pvalue}')\n",
        "\n",
        "# McNemar's test for Logistic Regression vs Decision Tree\n",
        "contingency_table_logistic_tree = [[cm_logistic[0, 0], cm_logistic[0, 1]], [cm_tree[1, 0], cm_tree[1, 1]]]\n",
        "result_logistic_tree = mcnemar(contingency_table_logistic_tree, exact=True)\n",
        "print(f'McNemar\\'s Test p-value (Logistic Regression vs Decision Tree): {result_logistic_tree.pvalue}')\n",
        "\n",
        "# McNemar's test for SVM vs Decision Tree\n",
        "contingency_table_svm_tree = [[cm_svm[0, 0], cm_svm[0, 1]], [cm_tree[1, 0], cm_tree[1, 1]]]\n",
        "result_svm_tree = mcnemar(contingency_table_svm_tree, exact=True)\n",
        "print(f'McNemar\\'s Test p-value (SVM vs Decision Tree): {result_svm_tree.pvalue}')\n"
      ],
      "metadata": {
        "colab": {
          "base_uri": "https://localhost:8080/"
        },
        "id": "TBYzH8zJT7ji",
        "outputId": "494ab99e-1798-483f-9fb7-6b919d44b0b2"
      },
      "execution_count": null,
      "outputs": [
        {
          "output_type": "stream",
          "name": "stderr",
          "text": [
            "/usr/local/lib/python3.10/dist-packages/sklearn/linear_model/_logistic.py:460: ConvergenceWarning: lbfgs failed to converge (status=1):\n",
            "STOP: TOTAL NO. of ITERATIONS REACHED LIMIT.\n",
            "\n",
            "Increase the number of iterations (max_iter) or scale the data as shown in:\n",
            "    https://scikit-learn.org/stable/modules/preprocessing.html\n",
            "Please also refer to the documentation for alternative solver options:\n",
            "    https://scikit-learn.org/stable/modules/linear_model.html#logistic-regression\n",
            "  n_iter_i = _check_optimize_result(\n",
            "/usr/local/lib/python3.10/dist-packages/sklearn/linear_model/_logistic.py:460: ConvergenceWarning: lbfgs failed to converge (status=1):\n",
            "STOP: TOTAL NO. of ITERATIONS REACHED LIMIT.\n",
            "\n",
            "Increase the number of iterations (max_iter) or scale the data as shown in:\n",
            "    https://scikit-learn.org/stable/modules/preprocessing.html\n",
            "Please also refer to the documentation for alternative solver options:\n",
            "    https://scikit-learn.org/stable/modules/linear_model.html#logistic-regression\n",
            "  n_iter_i = _check_optimize_result(\n",
            "/usr/local/lib/python3.10/dist-packages/sklearn/linear_model/_logistic.py:460: ConvergenceWarning: lbfgs failed to converge (status=1):\n",
            "STOP: TOTAL NO. of ITERATIONS REACHED LIMIT.\n",
            "\n",
            "Increase the number of iterations (max_iter) or scale the data as shown in:\n",
            "    https://scikit-learn.org/stable/modules/preprocessing.html\n",
            "Please also refer to the documentation for alternative solver options:\n",
            "    https://scikit-learn.org/stable/modules/linear_model.html#logistic-regression\n",
            "  n_iter_i = _check_optimize_result(\n",
            "/usr/local/lib/python3.10/dist-packages/sklearn/linear_model/_logistic.py:460: ConvergenceWarning: lbfgs failed to converge (status=1):\n",
            "STOP: TOTAL NO. of ITERATIONS REACHED LIMIT.\n",
            "\n",
            "Increase the number of iterations (max_iter) or scale the data as shown in:\n",
            "    https://scikit-learn.org/stable/modules/preprocessing.html\n",
            "Please also refer to the documentation for alternative solver options:\n",
            "    https://scikit-learn.org/stable/modules/linear_model.html#logistic-regression\n",
            "  n_iter_i = _check_optimize_result(\n",
            "/usr/local/lib/python3.10/dist-packages/sklearn/linear_model/_logistic.py:460: ConvergenceWarning: lbfgs failed to converge (status=1):\n",
            "STOP: TOTAL NO. of ITERATIONS REACHED LIMIT.\n",
            "\n",
            "Increase the number of iterations (max_iter) or scale the data as shown in:\n",
            "    https://scikit-learn.org/stable/modules/preprocessing.html\n",
            "Please also refer to the documentation for alternative solver options:\n",
            "    https://scikit-learn.org/stable/modules/linear_model.html#logistic-regression\n",
            "  n_iter_i = _check_optimize_result(\n"
          ]
        },
        {
          "output_type": "stream",
          "name": "stdout",
          "text": [
            "Logistic Regression Cross-Validation Accuracy Scores: [0.85       0.84745763 0.81355932 0.76271186 0.81355932]\n",
            "Mean Logistic Regression Cross-Validation Accuracy: 0.82\n",
            "SVM Cross-Validation Accuracy Scores: [0.38333333 0.28813559 0.55932203 0.38983051 0.59322034]\n",
            "Mean SVM Cross-Validation Accuracy: 0.44\n",
            "Decision Tree Cross-Validation Accuracy Scores: [1.         0.93220339 0.93220339 0.91525424 0.96610169]\n",
            "Mean Decision Tree Cross-Validation Accuracy: 0.95\n",
            "McNemar's Test p-value (Logistic Regression vs SVM): 1.0\n",
            "McNemar's Test p-value (Logistic Regression vs Decision Tree): 1.0\n",
            "McNemar's Test p-value (SVM vs Decision Tree): 1.0\n"
          ]
        },
        {
          "output_type": "stream",
          "name": "stderr",
          "text": [
            "/usr/local/lib/python3.10/dist-packages/sklearn/linear_model/_logistic.py:460: ConvergenceWarning: lbfgs failed to converge (status=1):\n",
            "STOP: TOTAL NO. of ITERATIONS REACHED LIMIT.\n",
            "\n",
            "Increase the number of iterations (max_iter) or scale the data as shown in:\n",
            "    https://scikit-learn.org/stable/modules/preprocessing.html\n",
            "Please also refer to the documentation for alternative solver options:\n",
            "    https://scikit-learn.org/stable/modules/linear_model.html#logistic-regression\n",
            "  n_iter_i = _check_optimize_result(\n"
          ]
        }
      ]
    },
    {
      "cell_type": "code",
      "source": [
        "import pandas as pd\n",
        "import numpy as np\n",
        "from sklearn.model_selection import train_test_split\n",
        "from sklearn.linear_model import LogisticRegression\n",
        "from statsmodels.stats.contingency_tables import mcnemar\n",
        "\n",
        "# Step 1: Load the dataset\n",
        "df = pd.read_csv('/content/data ml.csv')\n",
        "\n",
        "# Step 2: Drop rows with missing values in relevant columns\n",
        "df = df.dropna(subset=['Unit_Price', 'Quantity', 'Total_Price'])\n",
        "\n",
        "# Step 3: Define features and target\n",
        "X = df[['Unit_Price', 'Quantity']]\n",
        "y_true = df['Total_Price']  # Assuming 'price' is the target variable\n",
        "\n",
        "# Step 4: Ensure X and y_true have the same length\n",
        "print(f\"Length of X: {len(X)}\")\n",
        "print(f\"Length of y_true: {len(y_true)}\")\n",
        "\n",
        "if len(X) != len(y_true):\n",
        "    raise ValueError(\"Features and target have different numbers of samples.\")\n",
        "\n",
        "# Step 5: Split the data into training and testing sets\n",
        "X_train, X_test, y_train, y_test = train_test_split(X, y_true, test_size=0.2, random_state=0)\n",
        "\n",
        "# Step 6: Initialize and train two classifiers (using Logistic Regression as an example)\n",
        "model1 = LogisticRegression()\n",
        "model2 = LogisticRegression()\n",
        "\n",
        "model1.fit(X_train, y_train)\n",
        "model2.fit(X_train, y_train)\n",
        "\n",
        "# Step 7: Get predictions from both models\n",
        "pred_model1 = model1.predict(X_test)\n",
        "pred_model2 = model2.predict(X_test)\n",
        "\n",
        "# Step 8: Construct the contingency table for McNemar's test\n",
        "table = np.zeros((2, 2))\n",
        "\n",
        "for true, pred1, pred2 in zip(y_test, pred_model1, pred_model2):\n",
        "    if pred1 == true and pred2 == true:\n",
        "        table[0, 0] += 1  # Both correct\n",
        "    elif pred1 == true and pred2 != true:\n",
        "        table[0, 1] += 1  # Model 1 correct, Model 2 incorrect\n",
        "    elif pred1 != true and pred2 == true:\n",
        "        table[1, 0] += 1  # Model 1 incorrect, Model 2 correct\n",
        "    else:\n",
        "        table[1, 1] += 1  # Both incorrect\n",
        "\n",
        "# Step 9: Perform the McNemar test\n",
        "result = mcnemar(table, exact=True)  # exact=True for small sample sizes\n",
        "\n",
        "# Step 10: Print the test statistic and p-value\n",
        "print(f\"Statistic: {result.statistic}\")\n",
        "print(f\"P-value: {result.pvalue}\")\n",
        "\n",
        "# Step 11: Interpretation\n",
        "alpha = 0.05\n",
        "if result.pvalue < alpha:\n",
        "    print(\"Reject the null hypothesis: There is a significant difference between the two models.\")\n",
        "else:\n",
        "    print(\"Fail to reject the null hypothesis: No significant difference between the two models.\")"
      ],
      "metadata": {
        "colab": {
          "base_uri": "https://localhost:8080/",
          "height": 356
        },
        "outputId": "3990c85a-dc72-4c74-fcfe-11c8fcf3b680",
        "id": "FxRjI-PuSpT4"
      },
      "execution_count": null,
      "outputs": [
        {
          "output_type": "error",
          "ename": "FileNotFoundError",
          "evalue": "[Errno 2] No such file or directory: '/content/data ml.csv'",
          "traceback": [
            "\u001b[0;31m---------------------------------------------------------------------------\u001b[0m",
            "\u001b[0;31mFileNotFoundError\u001b[0m                         Traceback (most recent call last)",
            "\u001b[0;32m<ipython-input-1-db4b03cbaca7>\u001b[0m in \u001b[0;36m<cell line: 8>\u001b[0;34m()\u001b[0m\n\u001b[1;32m      6\u001b[0m \u001b[0;34m\u001b[0m\u001b[0m\n\u001b[1;32m      7\u001b[0m \u001b[0;31m# Step 1: Load the dataset\u001b[0m\u001b[0;34m\u001b[0m\u001b[0;34m\u001b[0m\u001b[0m\n\u001b[0;32m----> 8\u001b[0;31m \u001b[0mdf\u001b[0m \u001b[0;34m=\u001b[0m \u001b[0mpd\u001b[0m\u001b[0;34m.\u001b[0m\u001b[0mread_csv\u001b[0m\u001b[0;34m(\u001b[0m\u001b[0;34m'/content/data ml.csv'\u001b[0m\u001b[0;34m)\u001b[0m\u001b[0;34m\u001b[0m\u001b[0;34m\u001b[0m\u001b[0m\n\u001b[0m\u001b[1;32m      9\u001b[0m \u001b[0;34m\u001b[0m\u001b[0m\n\u001b[1;32m     10\u001b[0m \u001b[0;31m# Step 2: Drop rows with missing values in relevant columns\u001b[0m\u001b[0;34m\u001b[0m\u001b[0;34m\u001b[0m\u001b[0m\n",
            "\u001b[0;32m/usr/local/lib/python3.10/dist-packages/pandas/io/parsers/readers.py\u001b[0m in \u001b[0;36mread_csv\u001b[0;34m(filepath_or_buffer, sep, delimiter, header, names, index_col, usecols, dtype, engine, converters, true_values, false_values, skipinitialspace, skiprows, skipfooter, nrows, na_values, keep_default_na, na_filter, verbose, skip_blank_lines, parse_dates, infer_datetime_format, keep_date_col, date_parser, date_format, dayfirst, cache_dates, iterator, chunksize, compression, thousands, decimal, lineterminator, quotechar, quoting, doublequote, escapechar, comment, encoding, encoding_errors, dialect, on_bad_lines, delim_whitespace, low_memory, memory_map, float_precision, storage_options, dtype_backend)\u001b[0m\n\u001b[1;32m   1024\u001b[0m     \u001b[0mkwds\u001b[0m\u001b[0;34m.\u001b[0m\u001b[0mupdate\u001b[0m\u001b[0;34m(\u001b[0m\u001b[0mkwds_defaults\u001b[0m\u001b[0;34m)\u001b[0m\u001b[0;34m\u001b[0m\u001b[0;34m\u001b[0m\u001b[0m\n\u001b[1;32m   1025\u001b[0m \u001b[0;34m\u001b[0m\u001b[0m\n\u001b[0;32m-> 1026\u001b[0;31m     \u001b[0;32mreturn\u001b[0m \u001b[0m_read\u001b[0m\u001b[0;34m(\u001b[0m\u001b[0mfilepath_or_buffer\u001b[0m\u001b[0;34m,\u001b[0m \u001b[0mkwds\u001b[0m\u001b[0;34m)\u001b[0m\u001b[0;34m\u001b[0m\u001b[0;34m\u001b[0m\u001b[0m\n\u001b[0m\u001b[1;32m   1027\u001b[0m \u001b[0;34m\u001b[0m\u001b[0m\n\u001b[1;32m   1028\u001b[0m \u001b[0;34m\u001b[0m\u001b[0m\n",
            "\u001b[0;32m/usr/local/lib/python3.10/dist-packages/pandas/io/parsers/readers.py\u001b[0m in \u001b[0;36m_read\u001b[0;34m(filepath_or_buffer, kwds)\u001b[0m\n\u001b[1;32m    618\u001b[0m \u001b[0;34m\u001b[0m\u001b[0m\n\u001b[1;32m    619\u001b[0m     \u001b[0;31m# Create the parser.\u001b[0m\u001b[0;34m\u001b[0m\u001b[0;34m\u001b[0m\u001b[0m\n\u001b[0;32m--> 620\u001b[0;31m     \u001b[0mparser\u001b[0m \u001b[0;34m=\u001b[0m \u001b[0mTextFileReader\u001b[0m\u001b[0;34m(\u001b[0m\u001b[0mfilepath_or_buffer\u001b[0m\u001b[0;34m,\u001b[0m \u001b[0;34m**\u001b[0m\u001b[0mkwds\u001b[0m\u001b[0;34m)\u001b[0m\u001b[0;34m\u001b[0m\u001b[0;34m\u001b[0m\u001b[0m\n\u001b[0m\u001b[1;32m    621\u001b[0m \u001b[0;34m\u001b[0m\u001b[0m\n\u001b[1;32m    622\u001b[0m     \u001b[0;32mif\u001b[0m \u001b[0mchunksize\u001b[0m \u001b[0;32mor\u001b[0m \u001b[0miterator\u001b[0m\u001b[0;34m:\u001b[0m\u001b[0;34m\u001b[0m\u001b[0;34m\u001b[0m\u001b[0m\n",
            "\u001b[0;32m/usr/local/lib/python3.10/dist-packages/pandas/io/parsers/readers.py\u001b[0m in \u001b[0;36m__init__\u001b[0;34m(self, f, engine, **kwds)\u001b[0m\n\u001b[1;32m   1618\u001b[0m \u001b[0;34m\u001b[0m\u001b[0m\n\u001b[1;32m   1619\u001b[0m         \u001b[0mself\u001b[0m\u001b[0;34m.\u001b[0m\u001b[0mhandles\u001b[0m\u001b[0;34m:\u001b[0m \u001b[0mIOHandles\u001b[0m \u001b[0;34m|\u001b[0m \u001b[0;32mNone\u001b[0m \u001b[0;34m=\u001b[0m \u001b[0;32mNone\u001b[0m\u001b[0;34m\u001b[0m\u001b[0;34m\u001b[0m\u001b[0m\n\u001b[0;32m-> 1620\u001b[0;31m         \u001b[0mself\u001b[0m\u001b[0;34m.\u001b[0m\u001b[0m_engine\u001b[0m \u001b[0;34m=\u001b[0m \u001b[0mself\u001b[0m\u001b[0;34m.\u001b[0m\u001b[0m_make_engine\u001b[0m\u001b[0;34m(\u001b[0m\u001b[0mf\u001b[0m\u001b[0;34m,\u001b[0m \u001b[0mself\u001b[0m\u001b[0;34m.\u001b[0m\u001b[0mengine\u001b[0m\u001b[0;34m)\u001b[0m\u001b[0;34m\u001b[0m\u001b[0;34m\u001b[0m\u001b[0m\n\u001b[0m\u001b[1;32m   1621\u001b[0m \u001b[0;34m\u001b[0m\u001b[0m\n\u001b[1;32m   1622\u001b[0m     \u001b[0;32mdef\u001b[0m \u001b[0mclose\u001b[0m\u001b[0;34m(\u001b[0m\u001b[0mself\u001b[0m\u001b[0;34m)\u001b[0m \u001b[0;34m->\u001b[0m \u001b[0;32mNone\u001b[0m\u001b[0;34m:\u001b[0m\u001b[0;34m\u001b[0m\u001b[0;34m\u001b[0m\u001b[0m\n",
            "\u001b[0;32m/usr/local/lib/python3.10/dist-packages/pandas/io/parsers/readers.py\u001b[0m in \u001b[0;36m_make_engine\u001b[0;34m(self, f, engine)\u001b[0m\n\u001b[1;32m   1878\u001b[0m                 \u001b[0;32mif\u001b[0m \u001b[0;34m\"b\"\u001b[0m \u001b[0;32mnot\u001b[0m \u001b[0;32min\u001b[0m \u001b[0mmode\u001b[0m\u001b[0;34m:\u001b[0m\u001b[0;34m\u001b[0m\u001b[0;34m\u001b[0m\u001b[0m\n\u001b[1;32m   1879\u001b[0m                     \u001b[0mmode\u001b[0m \u001b[0;34m+=\u001b[0m \u001b[0;34m\"b\"\u001b[0m\u001b[0;34m\u001b[0m\u001b[0;34m\u001b[0m\u001b[0m\n\u001b[0;32m-> 1880\u001b[0;31m             self.handles = get_handle(\n\u001b[0m\u001b[1;32m   1881\u001b[0m                 \u001b[0mf\u001b[0m\u001b[0;34m,\u001b[0m\u001b[0;34m\u001b[0m\u001b[0;34m\u001b[0m\u001b[0m\n\u001b[1;32m   1882\u001b[0m                 \u001b[0mmode\u001b[0m\u001b[0;34m,\u001b[0m\u001b[0;34m\u001b[0m\u001b[0;34m\u001b[0m\u001b[0m\n",
            "\u001b[0;32m/usr/local/lib/python3.10/dist-packages/pandas/io/common.py\u001b[0m in \u001b[0;36mget_handle\u001b[0;34m(path_or_buf, mode, encoding, compression, memory_map, is_text, errors, storage_options)\u001b[0m\n\u001b[1;32m    871\u001b[0m         \u001b[0;32mif\u001b[0m \u001b[0mioargs\u001b[0m\u001b[0;34m.\u001b[0m\u001b[0mencoding\u001b[0m \u001b[0;32mand\u001b[0m \u001b[0;34m\"b\"\u001b[0m \u001b[0;32mnot\u001b[0m \u001b[0;32min\u001b[0m \u001b[0mioargs\u001b[0m\u001b[0;34m.\u001b[0m\u001b[0mmode\u001b[0m\u001b[0;34m:\u001b[0m\u001b[0;34m\u001b[0m\u001b[0;34m\u001b[0m\u001b[0m\n\u001b[1;32m    872\u001b[0m             \u001b[0;31m# Encoding\u001b[0m\u001b[0;34m\u001b[0m\u001b[0;34m\u001b[0m\u001b[0m\n\u001b[0;32m--> 873\u001b[0;31m             handle = open(\n\u001b[0m\u001b[1;32m    874\u001b[0m                 \u001b[0mhandle\u001b[0m\u001b[0;34m,\u001b[0m\u001b[0;34m\u001b[0m\u001b[0;34m\u001b[0m\u001b[0m\n\u001b[1;32m    875\u001b[0m                 \u001b[0mioargs\u001b[0m\u001b[0;34m.\u001b[0m\u001b[0mmode\u001b[0m\u001b[0;34m,\u001b[0m\u001b[0;34m\u001b[0m\u001b[0;34m\u001b[0m\u001b[0m\n",
            "\u001b[0;31mFileNotFoundError\u001b[0m: [Errno 2] No such file or directory: '/content/data ml.csv'"
          ]
        }
      ]
    },
    {
      "cell_type": "code",
      "source": [
        "import pandas as pd\n",
        "import numpy as np\n",
        "from sklearn.model_selection import train_test_split\n",
        "from sklearn.linear_model import LogisticRegression\n",
        "from statsmodels.stats.contingency_tables import mcnemar\n",
        "\n",
        "# Step 1: Load the dataset\n",
        "df = pd.read_csv('/content/data ml.csv')\n",
        "\n",
        "# Step 2: Drop rows with missing values in relevant columns\n",
        "df = df.dropna(subset=['Unit_Price', 'Quantity', 'Total_Price'])\n",
        "\n",
        "# Step 3: Define features and target\n",
        "X = df[['Unit_Price', 'Quantity']]\n",
        "y_true = df['Total_Price']  # Assuming 'price' is the target variable\n",
        "\n",
        "# Step 4: Ensure X and y_true have the same length\n",
        "print(f\"Length of X: {len(X)}\")\n",
        "print(f\"Length of y_true: {len(y_true)}\")\n",
        "\n",
        "if len(X) != len(y_true):\n",
        "    raise ValueError(\"Features and target have different numbers of samples.\")\n",
        "\n",
        "# Step 5: Split the data into training and testing sets\n",
        "X_train, X_test, y_train, y_test = train_test_split(X, y_true, test_size=0.2, random_state=0)\n",
        "\n",
        "# Step 6: Initialize and train two classifiers (using Logistic Regression as an example)\n",
        "model1 = LogisticRegression()\n",
        "model2 = LogisticRegression()\n",
        "\n",
        "model1.fit(X_train, y_train)\n",
        "model2.fit(X_train, y_train)\n",
        "\n",
        "# Step 7: Get predictions from both models\n",
        "pred_model1 = model1.predict(X_test)\n",
        "pred_model2 = model2.predict(X_test)\n",
        "\n",
        "# Step 8: Construct the contingency table for McNemar's test\n",
        "table = np.zeros((2, 2))\n",
        "\n",
        "for true, pred1, pred2 in zip(y_test, pred_model1, pred_model2):\n",
        "    if pred1 == true and pred2 == true:\n",
        "        table[0, 0] += 1  # Both correct\n",
        "    elif pred1 == true and pred2 != true:\n",
        "        table[0, 1] += 1  # Model 1 correct, Model 2 incorrect\n",
        "    elif pred1 != true and pred2 == true:\n",
        "        table[1, 0] += 1  # Model 1 incorrect, Model 2 correct\n",
        "    else:\n",
        "        table[1, 1] += 1  # Both incorrect\n",
        "\n",
        "# Step 9: Perform the McNemar test\n",
        "result = mcnemar(table, exact=True)  # exact=True for small sample sizes\n",
        "\n",
        "# Step 10: Print the test statistic and p-value\n",
        "print(f\"Statistic: {result.statistic}\")\n",
        "print(f\"P-value: {result.pvalue}\")\n",
        "\n",
        "# Step 11: Interpretation\n",
        "alpha = 0.05\n",
        "if result.pvalue < alpha:\n",
        "    print(\"Reject the null hypothesis: There is a significant difference between the two models.\")\n",
        "else:\n",
        "    print(\"Fail to reject the null hypothesis: No significant difference between the two models.\")"
      ],
      "metadata": {
        "colab": {
          "base_uri": "https://localhost:8080/"
        },
        "outputId": "e9efeb45-a1a8-4db0-aa7a-2572f4ddf055",
        "id": "vO26eJUaSkmD"
      },
      "execution_count": null,
      "outputs": [
        {
          "output_type": "stream",
          "name": "stdout",
          "text": [
            "Length of X: 291\n",
            "Length of y_true: 291\n",
            "Statistic: 0.0\n",
            "P-value: 1.0\n",
            "Fail to reject the null hypothesis: No significant difference between the two models.\n"
          ]
        },
        {
          "output_type": "stream",
          "name": "stderr",
          "text": [
            "/usr/local/lib/python3.10/dist-packages/sklearn/linear_model/_logistic.py:460: ConvergenceWarning: lbfgs failed to converge (status=1):\n",
            "STOP: TOTAL NO. of ITERATIONS REACHED LIMIT.\n",
            "\n",
            "Increase the number of iterations (max_iter) or scale the data as shown in:\n",
            "    https://scikit-learn.org/stable/modules/preprocessing.html\n",
            "Please also refer to the documentation for alternative solver options:\n",
            "    https://scikit-learn.org/stable/modules/linear_model.html#logistic-regression\n",
            "  n_iter_i = _check_optimize_result(\n",
            "/usr/local/lib/python3.10/dist-packages/sklearn/linear_model/_logistic.py:460: ConvergenceWarning: lbfgs failed to converge (status=1):\n",
            "STOP: TOTAL NO. of ITERATIONS REACHED LIMIT.\n",
            "\n",
            "Increase the number of iterations (max_iter) or scale the data as shown in:\n",
            "    https://scikit-learn.org/stable/modules/preprocessing.html\n",
            "Please also refer to the documentation for alternative solver options:\n",
            "    https://scikit-learn.org/stable/modules/linear_model.html#logistic-regression\n",
            "  n_iter_i = _check_optimize_result(\n"
          ]
        }
      ]
    },
    {
      "cell_type": "code",
      "source": [
        "contingency_table_svm_tree"
      ],
      "metadata": {
        "colab": {
          "base_uri": "https://localhost:8080/"
        },
        "id": "Y-JWOssBU5ND",
        "outputId": "5721d6f8-1677-436e-9d7e-22eb21febf1e"
      },
      "execution_count": null,
      "outputs": [
        {
          "output_type": "execute_result",
          "data": {
            "text/plain": [
              "[[0, 0], [0, 1]]"
            ]
          },
          "metadata": {},
          "execution_count": 21
        }
      ]
    },
    {
      "cell_type": "code",
      "source": [
        "contingency_table_logistic_tree"
      ],
      "metadata": {
        "colab": {
          "base_uri": "https://localhost:8080/"
        },
        "id": "6qc7zmOGVAxi",
        "outputId": "03d1f65a-e829-40f5-fc18-8634500088eb"
      },
      "execution_count": null,
      "outputs": [
        {
          "output_type": "execute_result",
          "data": {
            "text/plain": [
              "[[0, 0], [0, 1]]"
            ]
          },
          "metadata": {},
          "execution_count": 22
        }
      ]
    },
    {
      "cell_type": "code",
      "source": [
        "cm_logistic"
      ],
      "metadata": {
        "colab": {
          "base_uri": "https://localhost:8080/"
        },
        "id": "Hg9n1g32VHCz",
        "outputId": "d13a748c-caa4-4f18-b0a1-8b1f12f417b7"
      },
      "execution_count": null,
      "outputs": [
        {
          "output_type": "execute_result",
          "data": {
            "text/plain": [
              "array([[0, 0, 0, 0, 0, 0, 1, 0, 0, 0, 0, 0, 0, 0, 0, 0, 0, 0, 0],\n",
              "       [0, 0, 0, 0, 0, 0, 1, 0, 0, 0, 0, 0, 0, 0, 0, 0, 0, 0, 0],\n",
              "       [0, 0, 5, 0, 0, 0, 0, 0, 0, 0, 0, 0, 0, 0, 0, 0, 0, 0, 0],\n",
              "       [0, 0, 0, 4, 0, 0, 0, 0, 0, 0, 0, 0, 0, 0, 0, 0, 0, 0, 0],\n",
              "       [0, 0, 0, 0, 3, 0, 0, 0, 0, 0, 0, 0, 0, 0, 0, 0, 0, 0, 0],\n",
              "       [0, 0, 0, 0, 0, 3, 0, 0, 0, 0, 0, 0, 0, 0, 0, 0, 0, 0, 0],\n",
              "       [0, 0, 0, 0, 0, 0, 7, 0, 0, 0, 0, 0, 0, 0, 0, 0, 0, 0, 0],\n",
              "       [0, 0, 0, 0, 0, 0, 3, 0, 0, 0, 0, 0, 0, 0, 0, 0, 0, 0, 0],\n",
              "       [0, 0, 0, 0, 0, 0, 0, 0, 2, 0, 0, 0, 0, 0, 0, 0, 0, 0, 0],\n",
              "       [0, 0, 0, 0, 0, 0, 1, 0, 0, 1, 0, 0, 0, 0, 0, 0, 0, 0, 0],\n",
              "       [0, 0, 0, 0, 0, 0, 0, 0, 0, 0, 1, 0, 0, 0, 0, 0, 0, 0, 0],\n",
              "       [0, 0, 0, 0, 0, 0, 1, 0, 0, 0, 0, 2, 0, 0, 0, 0, 0, 0, 0],\n",
              "       [0, 0, 0, 0, 0, 0, 0, 0, 0, 0, 0, 0, 0, 0, 1, 0, 0, 0, 0],\n",
              "       [0, 0, 0, 0, 0, 0, 0, 0, 0, 0, 0, 0, 0, 4, 0, 0, 0, 0, 0],\n",
              "       [0, 0, 0, 0, 0, 0, 0, 0, 0, 0, 0, 0, 0, 0, 3, 0, 0, 0, 0],\n",
              "       [0, 0, 0, 0, 0, 0, 1, 0, 0, 0, 0, 0, 0, 0, 0, 7, 0, 0, 0],\n",
              "       [0, 0, 0, 0, 0, 0, 0, 0, 0, 0, 0, 0, 0, 0, 0, 0, 5, 0, 0],\n",
              "       [0, 0, 0, 0, 0, 0, 0, 0, 0, 0, 0, 0, 0, 0, 0, 0, 0, 3, 0],\n",
              "       [0, 0, 0, 0, 0, 0, 0, 0, 0, 0, 0, 0, 0, 0, 0, 0, 0, 0, 1]])"
            ]
          },
          "metadata": {},
          "execution_count": 23
        }
      ]
    },
    {
      "cell_type": "code",
      "source": [
        "import pandas as pd\n",
        "import numpy as np\n",
        "import matplotlib.pyplot as plt\n",
        "from sklearn.model_selection import train_test_split\n",
        "from sklearn.linear_model import LogisticRegression\n",
        "from sklearn.metrics import confusion_matrix, classification_report, accuracy_score, roc_curve, auc\n",
        "\n",
        "# Load the dataset\n",
        "df = pd.read_csv('/content/data ml.csv')  # Replace with your actual file path\n",
        "\n",
        "# Define a threshold for classifying the orders based on Total_Price\n",
        "threshold = 150  # Adjust this threshold as needed\n",
        "\n",
        "# Create a new binary column 'Price_Class'\n",
        "df['Price_Class'] = np.where(df['Total_Price'] > threshold, 1, 0)\n",
        "\n",
        "# Drop rows with missing values in Unit_Price and Total_Price\n",
        "df_clean = df.dropna(subset=['Unit_Price', 'Total_Price'])\n",
        "\n",
        "# Check if there are both classes in the target variable\n",
        "class_counts = df_clean['Price_Class'].value_counts()\n",
        "print(f\"Class distribution:\\n{class_counts}\\n\")\n",
        "if len(class_counts) < 2:\n",
        "    print(\"Warning: The data does not have at least two classes for classification. Adjust the threshold or check the data.\")\n",
        "else:\n",
        "    # Define features and target variable\n",
        "    X_clean = df_clean[['Unit_Price', 'Total_Price']]\n",
        "    Y_clean = df_clean['Price_Class']\n",
        "\n",
        "    # Split the cleaned data into training and testing sets\n",
        "    X_train_clean, X_test_clean, Y_train_clean, Y_test_clean = train_test_split(X_clean, Y_clean, test_size=0.2, random_state=0)\n",
        "\n",
        "    # Initialize the Logistic Regression model\n",
        "    logistic_model = LogisticRegression()\n",
        "\n",
        "    # Fit the model on the training data\n",
        "    logistic_model.fit(X_train_clean, Y_train_clean)\n",
        "\n",
        "    # Predict the target variable on the testing data\n",
        "    Y_pred_clean = logistic_model.predict(X_test_clean)\n",
        "\n",
        "    # Calculate accuracy, confusion matrix, and classification report\n",
        "    accuracy = accuracy_score(Y_test_clean, Y_pred_clean)\n",
        "    conf_matrix = confusion_matrix(Y_test_clean, Y_pred_clean)\n",
        "    class_report = classification_report(Y_test_clean, Y_pred_clean)\n",
        "\n",
        "    # Print accuracy, confusion matrix, and classification report\n",
        "    print(f\"Accuracy: {accuracy:.2f}\")\n",
        "    print(\"Confusion Matrix:\")\n",
        "    print(conf_matrix)\n",
        "    print(\"Classification Report:\")\n",
        "    print(class_report)\n",
        "\n",
        "    # Plot ROC Curve\n",
        "    Y_pred_proba = logistic_model.predict_proba(X_test_clean)[:, 1]\n",
        "    fpr, tpr, _ = roc_curve(Y_test_clean, Y_pred_proba)\n",
        "    roc_auc = auc(fpr, tpr)\n",
        "\n",
        "    plt.figure()\n",
        "    plt.plot(fpr, tpr, color='blue', lw=2, label='ROC curve (area = %0.2f)' % roc_auc)\n",
        "    plt.plot([0, 1], [0, 1], color='red', linestyle='--')  # Diagonal line\n",
        "    plt.xlim([0.0, 1.0])\n",
        "    plt.ylim([0.0, 1.05])\n",
        "    plt.xlabel('False Positive Rate')\n",
        "    plt.ylabel('True Positive Rate')\n",
        "    plt.title('Receiver Operating Characteristic (ROC) Curve')\n",
        "    plt.legend(loc=\"lower right\")\n",
        "    plt.grid(True)\n",
        "    plt.show()\n",
        "\n",
        "print('Coefficient:', model.coef_[0])\n",
        "print('Intercept:', model.intercept_)\n",
        "print('R^2 score:', model.score(X_test, Y_test))\n",
        "print('Mean squared error (test set):', mse)\n",
        "print('Mean cross-validated MSE:', -np.mean(cv_scores))\n",
        "print('Standard deviation of cross-validated MSE:', np.std(cv_scores))"
      ],
      "metadata": {
        "colab": {
          "base_uri": "https://localhost:8080/",
          "height": 944
        },
        "id": "R2IHavnMrUDA",
        "outputId": "6a3973e7-7b44-442e-8a15-37361ebe2b4d"
      },
      "execution_count": null,
      "outputs": [
        {
          "output_type": "stream",
          "name": "stdout",
          "text": [
            "Class distribution:\n",
            "Price_Class\n",
            "0    220\n",
            "1     76\n",
            "Name: count, dtype: int64\n",
            "\n",
            "Accuracy: 1.00\n",
            "Confusion Matrix:\n",
            "[[45  0]\n",
            " [ 0 15]]\n",
            "Classification Report:\n",
            "              precision    recall  f1-score   support\n",
            "\n",
            "           0       1.00      1.00      1.00        45\n",
            "           1       1.00      1.00      1.00        15\n",
            "\n",
            "    accuracy                           1.00        60\n",
            "   macro avg       1.00      1.00      1.00        60\n",
            "weighted avg       1.00      1.00      1.00        60\n",
            "\n"
          ]
        },
        {
          "output_type": "display_data",
          "data": {
            "text/plain": [
              "<Figure size 640x480 with 1 Axes>"
            ],
            "image/png": "[encoded data removed]"
          },
          "metadata": {}
        },
        {
          "output_type": "stream",
          "name": "stdout",
          "text": [
            "Coefficient: 1.2573116923111172\n",
            "Intercept: 147.79553122883152\n",
            "R^2 score: 0.8058643146660891\n",
            "Mean squared error (test set): 3033.307744216733\n",
            "Mean cross-validated MSE: 8541.546457681037\n",
            "Standard deviation of cross-validated MSE: 8598.150988526368\n"
          ]
        }
      ]
    },
    {
      "cell_type": "code",
      "source": [
        "import matplotlib.pyplot as plt\n"
      ],
      "metadata": {
        "id": "1UjVUByz7F4I"
      },
      "execution_count": null,
      "outputs": []
    },
    {
      "cell_type": "code",
      "source": [
        "import seaborn as sns\n",
        "# confusion matrix for logistic regression\n",
        "conf_matrix = confusion_matrix(y_test, y_pred)\n",
        "\n",
        "# Plot the confusion matrix using seaborn\n",
        "plt.figure(figsize=(8, 6))\n",
        "sns.heatmap(conf_matrix, annot=True, fmt='d', cmap='Blues', cbar=False)\n",
        "plt.title('Confusion Matrix')\n",
        "plt.xlabel('Predicted Labels')\n",
        "plt.ylabel('True Labels')\n",
        "plt.show()"
      ],
      "metadata": {
        "colab": {
          "base_uri": "https://localhost:8080/",
          "height": 564
        },
        "id": "9sqCc3I78Od0",
        "outputId": "5452b1a1-18d4-4c51-b06b-bc7d80a28db5"
      },
      "execution_count": null,
      "outputs": [
        {
          "output_type": "display_data",
          "data": {
            "text/plain": [
              "<Figure size 800x600 with 1 Axes>"
            ],
            "image/png": "[encoded data removed]"
          },
          "metadata": {}
        }
      ]
    },
    {
      "cell_type": "code",
      "source": [
        "import numpy as np\n",
        "import matplotlib.pyplot as plt\n",
        "from itertools import cycle\n",
        "\n",
        "from sklearn import svm, datasets\n",
        "from sklearn.preprocessing import label_binarize\n",
        "from sklearn.model_selection import train_test_split\n",
        "from sklearn.metrics import roc_curve, auc\n",
        "from sklearn.multiclass import OneVsRestClassifier\n",
        "from sklearn.metrics import confusion_matrix, ConfusionMatrixDisplay\n",
        "\n",
        "# 1. Load and Prepare the Dataset\n",
        "# Replace this with your actual data loading code\n",
        "iris = datasets.load_iris()\n",
        "X = iris.data\n",
        "y = iris.target\n",
        "class_names = iris.target_names\n",
        "\n",
        "# Binarize the output labels for multiclass ROC\n",
        "y_binarized = label_binarize(y, classes=np.unique(y))\n",
        "n_classes = y_binarized.shape[1]\n",
        "\n",
        "# 2. Split into Training and Test Sets\n",
        "X_train, X_test, y_train, y_test = train_test_split(\n",
        "    X, y, test_size=0.2, random_state=42\n",
        ")\n",
        "\n",
        "# Binarize the test labels as well\n",
        "y_test_binarized = label_binarize(y_test, classes=np.unique(y))\n",
        "# Update n_classes in case some classes are missing in test set\n",
        "n_classes = y_test_binarized.shape[1]\n",
        "\n",
        "# 3. Train the One-vs-Rest SVM Classifier\n",
        "# Note: decision_function is used for ROC, probability=True can also be used with predict_proba\n",
        "classifier = OneVsRestClassifier(svm.SVC(kernel='linear', probability=True, random_state=42))\n",
        "classifier.fit(X_train, y_train)\n",
        "\n",
        "# 4. Compute Decision Scores\n",
        "# For ROC curves, we use decision_function or predict_proba\n",
        "# decision_function returns distance to the hyperplane\n",
        "y_score = classifier.decision_function(X_test)\n",
        "\n",
        "# 5. Compute ROC Curve and AUC for Each Class\n",
        "fpr = dict()\n",
        "tpr = dict()\n",
        "roc_auc = dict()\n",
        "\n",
        "for i in range(n_classes):\n",
        "    fpr[i], tpr[i], _ = roc_curve(y_test_binarized[:, i], y_score[:, i])\n",
        "    roc_auc[i] = auc(fpr[i], tpr[i])\n",
        "\n",
        "# 6. Compute Micro-average ROC Curve and AUC (Optional)\n",
        "fpr[\"micro\"], tpr[\"micro\"], _ = roc_curve(y_test_binarized.ravel(), y_score.ravel())\n",
        "roc_auc[\"micro\"] = auc(fpr[\"micro\"], tpr[\"micro\"])\n",
        "\n",
        "# 7. Plot ROC Curves for Each Class\n",
        "plt.figure()\n",
        "colors = cycle(['aqua', 'darkorange', 'cornflowerblue', 'green', 'red', 'purple'])\n",
        "\n",
        "for i, color in zip(range(n_classes), colors):\n",
        "    plt.plot(\n",
        "        fpr[i],\n",
        "        tpr[i],\n",
        "        color=color,\n",
        "        lw=2,\n",
        "        label='ROC curve of class {0} (AUC = {1:0.2f})'\n",
        "        ''.format(class_names[i], roc_auc[i])\n",
        "    )\n",
        "\n",
        "plt.plot([0, 1], [0, 1], 'k--', lw=2)  # Diagonal line for random chance\n",
        "plt.xlim([0.0, 1.0])\n",
        "plt.ylim([0.0, 1.05])\n",
        "plt.xlabel('False Positive Rate')\n",
        "plt.ylabel('True Positive Rate')\n",
        "plt.title('Receiver Operating Characteristic (ROC) for Multiclass')\n",
        "plt.legend(loc=\"lower right\")\n",
        "plt.show()\n",
        "\n",
        "# 8. (Optional) Display the Confusion Matrix\n",
        "# Predict the labels for the test set\n",
        "y_pred = classifier.predict(X_test)\n",
        "\n",
        "# Compute the confusion matrix\n",
        "conf_matrix = confusion_matrix(y_test, y_pred)\n",
        "\n",
        "# Display the confusion matrix\n",
        "disp = ConfusionMatrixDisplay(confusion_matrix=conf_matrix, display_labels=class_names)\n",
        "disp.plot(cmap='Blues', values_format='d')\n",
        "plt.title(\"Confusion Matrix\")\n",
        "plt.show()\n"
      ],
      "metadata": {
        "colab": {
          "base_uri": "https://localhost:8080/",
          "height": 927
        },
        "id": "1E60pNIz-W2Q",
        "outputId": "e0393359-35f7-45a9-fc44-cf5944e7a7aa"
      },
      "execution_count": null,
      "outputs": [
        {
          "output_type": "display_data",
          "data": {
            "text/plain": [
              "<Figure size 640x480 with 1 Axes>"
            ],
            "image/png": "[encoded data removed]"
          },
          "metadata": {}
        },
        {
          "output_type": "display_data",
          "data": {
            "text/plain": [
              "<Figure size 640x480 with 2 Axes>"
            ],
            "image/png": "[encoded data removed]"
          },
          "metadata": {}
        }
      ]
    },
    {
      "cell_type": "code",
      "source": [
        "# Import necessary libraries\n",
        "import numpy as np\n",
        "import matplotlib.pyplot as plt\n",
        "import seaborn as sns\n",
        "from sklearn.datasets import load_iris\n",
        "from sklearn.model_selection import train_test_split\n",
        "from sklearn.tree import DecisionTreeClassifier\n",
        "from sklearn.ensemble import RandomForestClassifier\n",
        "from sklearn.svm import SVC\n",
        "from sklearn.linear_model import LogisticRegression\n",
        "from sklearn.metrics import confusion_matrix\n",
        "\n",
        "# Load and preprocess the dataset (using Iris dataset as an example)\n",
        "data = load_iris()\n",
        "X = data.data\n",
        "y = data.target\n",
        "\n",
        "# Split the data into training and testing sets\n",
        "X_train, X_test, y_train, y_test = train_test_split(X, y, test_size=0.2, random_state=42)\n",
        "\n",
        "# Initialize and fit Decision Tree model\n",
        "model = DecisionTreeClassifier(criterion='entropy', max_depth=5, min_samples_split=10, random_state=42)\n",
        "model.fit(X_train, y_train)\n",
        "y_pred = model.predict(X_test)\n",
        "dt_cm = confusion_matrix(y_test, y_pred)\n",
        "\n",
        "# Initialize and fit Random Forest model\n",
        "rf_model = RandomForestClassifier(n_estimators=100, max_features='sqrt', max_depth=10, min_samples_split=5, random_state=42)\n",
        "rf_model.fit(X_train, y_train)\n",
        "rf_y_pred = rf_model.predict(X_test)\n",
        "rf_cm = confusion_matrix(y_test, rf_y_pred)\n",
        "\n",
        "# Initialize and fit SVM model\n",
        "svm_model = SVC(C=1.0, kernel='rbf', gamma='scale', probability=True, random_state=42)\n",
        "svm_model.fit(X_train, y_train)\n",
        "svm_y_pred = svm_model.predict(X_test)\n",
        "svm_cm = confusion_matrix(y_test, svm_y_pred)\n",
        "\n",
        "# Initialize and fit Logistic Regression model\n",
        "log_model = LogisticRegression(C=0.1, solver='liblinear', penalty='l2', random_state=42)\n",
        "log_model.fit(X_train, y_train)\n",
        "log_y_pred = log_model.predict(X_test)\n",
        "log_cm = confusion_matrix(y_test, log_y_pred)\n",
        "\n",
        "# Plot confusion matrices in a 2x2 grid\n",
        "fig, axs = plt.subplots(2, 2, figsize=(10, 10))\n",
        "\n",
        "# Decision Tree\n",
        "sns.heatmap(dt_cm, annot=True, fmt='d', cmap='Blues', ax=axs[0, 0])\n",
        "axs[0, 0].set_title('Decision Tree - Confusion Matrix')\n",
        "axs[0, 0].set_xlabel('Predicted')\n",
        "axs[0, 0].set_ylabel('Actual')\n",
        "\n",
        "# Random Forest\n",
        "sns.heatmap(rf_cm, annot=True, fmt='d', cmap='Blues', ax=axs[0, 1])\n",
        "axs[0, 1].set_title('Random Forest - Confusion Matrix')\n",
        "axs[0, 1].set_xlabel('Predicted')\n",
        "axs[0, 1].set_ylabel('Actual')\n",
        "\n",
        "# SVM\n",
        "sns.heatmap(svm_cm, annot=True, fmt='d', cmap='Blues', ax=axs[1, 0])\n",
        "axs[1, 0].set_title('SVM - Confusion Matrix')\n",
        "axs[1, 0].set_xlabel('Predicted')\n",
        "axs[1, 0].set_ylabel('Actual')\n",
        "\n",
        "# Logistic Regression\n",
        "sns.heatmap(log_cm, annot=True, fmt='d', cmap='Blues', ax=axs[1, 1])\n",
        "axs[1, 1].set_title('Logistic Regression - Confusion Matrix')\n",
        "axs[1, 1].set_xlabel('Predicted')\n",
        "axs[1, 1].set_ylabel('Actual')\n",
        "\n",
        "plt.tight_layout()\n",
        "plt.show()\n",
        "8"
      ],
      "metadata": {
        "colab": {
          "base_uri": "https://localhost:8080/",
          "height": 1000
        },
        "id": "4Lw2TtSJ_Dn3",
        "outputId": "51816e5f-d704-47e7-85ed-0f7df267f8ec"
      },
      "execution_count": null,
      "outputs": [
        {
          "output_type": "display_data",
          "data": {
            "text/plain": [
              "<Figure size 1000x1000 with 8 Axes>"
            ],
            "image/png": "[encoded data removed]"
          },
          "metadata": {}
        }
      ]
    }
  ],
  "metadata": {
    "colab": {
      "provenance": [],
      "include_colab_link": true
    },
    "kernelspec": {
      "display_name": "Python 3",
      "name": "python3"
    }
  },
  "nbformat": 4,
  "nbformat_minor": 0
}